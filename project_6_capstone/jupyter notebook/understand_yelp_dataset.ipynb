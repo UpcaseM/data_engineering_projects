{
 "cells": [
  {
   "cell_type": "markdown",
   "metadata": {},
   "source": [
    "The goal of the project is to build an ETL pipline that extract yelp data and weather data from S3, processes them using spark, and loads the data back in to s3 as dimensional tables. This would help yelp team find insights from the data, and the data can be used to provide business owners a resource to help them make strategic decisions.\n",
    "\n",
    "This notebook is to explore the data and help design the data model."
   ]
  },
  {
   "cell_type": "code",
   "execution_count": 1,
   "metadata": {},
   "outputs": [],
   "source": [
    "#! /home/rick/anaconda3/envs/de_capstone/bin/python\n",
    "\n",
    "import os\n",
    "import datetime\n",
    "import configparser\n",
    "\n",
    "os.environ['SPARK_HOME'] = '/home/rick/spark-3.0.0-preview2-bin-hadoop2.7'\n",
    "os.environ['PYSPARK_PYTHON'] = '/home/rick/anaconda3/envs/udacity_de/bin/python'\n",
    "os.environ['PYSPARK_DRIVER_PYTHON'] = '/home/rick/anaconda3/envs/udacity_de/bin/ipython'\n",
    "\n",
    "import findspark\n",
    "findspark.init()\n",
    "\n",
    "from pyspark.sql import SparkSession\n",
    "from pyspark.sql import functions as F\n",
    "from pyspark.sql import types as T\n",
    "from pyspark.sql import Window\n",
    "\n",
    "import pandas as pd\n",
    "import numpy as np"
   ]
  },
  {
   "cell_type": "code",
   "execution_count": 2,
   "metadata": {},
   "outputs": [],
   "source": [
    "spark = SparkSession.builder\\\n",
    "                     .config(\"spark.jars.packages\",\"org.apache.hadoop:hadoop-aws:2.7.0\")\\\n",
    "                     .getOrCreate()"
   ]
  },
  {
   "cell_type": "code",
   "execution_count": 3,
   "metadata": {},
   "outputs": [],
   "source": [
    "project_dir = '/mnt/data-ubuntu/Projects/data_engineering_projects/project_6_capstone'"
   ]
  },
  {
   "cell_type": "code",
   "execution_count": 4,
   "metadata": {},
   "outputs": [],
   "source": [
    "# Import json as spark dataframe\n",
    "df_review = spark.read.json(project_dir + '/data/yelp-dataset/yelp_academic_dataset_review.json')\n",
    "df_business = spark.read.json(project_dir + '/data/yelp-dataset/yelp_academic_dataset_business.json')\n",
    "df_checkin = spark.read.json(project_dir + '/data/yelp-dataset/yelp_academic_dataset_checkin.json')\n",
    "df_tip = spark.read.json(project_dir + '/data/yelp-dataset/yelp_academic_dataset_tip.json')\n",
    "df_user = spark.read.json(project_dir + '/data/yelp-dataset/yelp_academic_dataset_user.json')"
   ]
  },
  {
   "cell_type": "markdown",
   "metadata": {},
   "source": [
    "## Check schema and update data type"
   ]
  },
  {
   "cell_type": "code",
   "execution_count": 5,
   "metadata": {
    "scrolled": true
   },
   "outputs": [
    {
     "name": "stdout",
     "output_type": "stream",
     "text": [
      "root\n",
      " |-- business_id: string (nullable = true)\n",
      " |-- cool: long (nullable = true)\n",
      " |-- date: string (nullable = true)\n",
      " |-- funny: long (nullable = true)\n",
      " |-- review_id: string (nullable = true)\n",
      " |-- stars: double (nullable = true)\n",
      " |-- text: string (nullable = true)\n",
      " |-- useful: long (nullable = true)\n",
      " |-- user_id: string (nullable = true)\n",
      "\n"
     ]
    }
   ],
   "source": [
    "df_review.printSchema()"
   ]
  },
  {
   "cell_type": "code",
   "execution_count": 6,
   "metadata": {},
   "outputs": [
    {
     "data": {
      "text/plain": [
       "8021122"
      ]
     },
     "execution_count": 6,
     "metadata": {},
     "output_type": "execute_result"
    }
   ],
   "source": [
    "# Check total rows.\n",
    "df_review.count()"
   ]
  },
  {
   "cell_type": "code",
   "execution_count": 7,
   "metadata": {
    "scrolled": true
   },
   "outputs": [
    {
     "data": {
      "text/plain": [
       "[Row(business_id='-MhfebM0QIsKt87iDN-FNw', cool=0, date='2015-04-15 05:21:16', funny=0, review_id='xQY8N_XvtGbearJ5X4QryQ', stars=2.0, text='As someone who has worked with many museums, I was eager to visit this gallery on my most recent trip to Las Vegas. When I saw they would be showing infamous eggs of the House of Faberge from the Virginia Museum of Fine Arts (VMFA), I knew I had to go!\\n\\nTucked away near the gelateria and the garden, the Gallery is pretty much hidden from view. It\\'s what real estate agents would call \"cozy\" or \"charming\" - basically any euphemism for small.\\n\\nThat being said, you can still see wonderful art at a gallery of any size, so why the two *s you ask? Let me tell you:\\n\\n* pricing for this, while relatively inexpensive for a Las Vegas attraction, is completely over the top. For the space and the amount of art you can fit in there, it is a bit much.\\n* it\\'s not kid friendly at all. Seriously, don\\'t bring them.\\n* the security is not trained properly for the show. When the curating and design teams collaborate for exhibitions, there is a definite flow. That means visitors should view the art in a certain sequence, whether it be by historical period or cultural significance (this is how audio guides are usually developed). When I arrived in the gallery I could not tell where to start, and security was certainly not helpful. I was told to \"just look around\" and \"do whatever.\" \\n\\nAt such a *fine* institution, I find the lack of knowledge and respect for the art appalling.', useful=5, user_id='OwjRMXRC0KyPrIlcjaXeFQ'),\n",
       " Row(business_id='lbrU8StCq3yDfr-QMnGrmQ', cool=0, date='2013-12-07 03:16:52', funny=1, review_id='UmFMZ8PyXZTY2QcwzsfQYA', stars=1.0, text='I am actually horrified this place is still in business. My 3 year old son needed a haircut this past summer and the lure of the $7 kids cut signs got me in the door. We had to wait a few minutes as both stylists were working on people. The decor in this place is total garbage. It is so tacky. The sofa they had at the time was a pleather sofa with giant holes in it. And my son noticed ants crawling all over the floor and the furniture. It was disgusting and I should have walked out then. Actually, I should have turned around and walked out upon entering but I didn\\'t. So the older black male stylist finishes the haircut he was doing and it\\'s our turn. I tell him I want a #2 clipper around the back and sides and then hand cut the top into a standard boys cut. Really freaking simple, right? WRONG! Rather than use the clippers and go up to actually cut the hair, he went down. Using it moving downward doesn\\'t cut hair, it just rubs against it. How does this man who has an alleged cosmetology license not know how to use a set of freaking clippers??? I realized almost immediately that he had no idea what he was doing. No idea at all. After about 10 minutes of watching this guy stumble through it, I said \"you know what? That\\'s fine.\", paid and left. All I wanted to do was get out of that scummy joint and take my son to a real haircut place.\\n\\nBottom line: DO NOT GO HERE. RUN THE OTHER WAY!!!!!', useful=1, user_id='nIJD_7ZXHq-FX8byPMOkMQ')]"
      ]
     },
     "execution_count": 7,
     "metadata": {},
     "output_type": "execute_result"
    }
   ],
   "source": [
    "# Check the data.\n",
    "df_review.take(2)"
   ]
  },
  {
   "cell_type": "code",
   "execution_count": 8,
   "metadata": {
    "scrolled": true
   },
   "outputs": [
    {
     "name": "stdout",
     "output_type": "stream",
     "text": [
      "+--------------------+-----+\n",
      "|           review_id|count|\n",
      "+--------------------+-----+\n",
      "|jdeXUl1zbo8Vsf0TE...|    1|\n",
      "|1xk6Zpi5RIHhww0Oi...|    1|\n",
      "|rbewsDf1t_kp_aybe...|    1|\n",
      "|xFp1PMJRPvJfG4Kuz...|    1|\n",
      "|s4OE2CR1ZBUOp4zcV...|    1|\n",
      "|FGfB9royRBNIJGn7p...|    1|\n",
      "|bNaTfd98aSrCHnZkI...|    1|\n",
      "|ja65_A4GG_r6h5SFf...|    1|\n",
      "|GR0B51lu8ZJYvrhys...|    1|\n",
      "|M8G8bhMTJZCzeu58Z...|    1|\n",
      "|u7DqzfN7AFaJr3WaI...|    1|\n",
      "|bEF1LA2ljJYJ2B0eO...|    1|\n",
      "|Rto7Hf2Yt6u3K4BAC...|    1|\n",
      "|vxutX6TeYTYPVdhjm...|    1|\n",
      "|yy2kR5UttSCG-3L6w...|    1|\n",
      "|YoIMkh_TcMFnmL6tw...|    1|\n",
      "|0RvujvqEgdEimjVjv...|    1|\n",
      "|huFwb7WqheWETocTR...|    1|\n",
      "|sbazF6-M3hSc1XnUG...|    1|\n",
      "|3W6X1kzjEFmgVi0PI...|    1|\n",
      "+--------------------+-----+\n",
      "only showing top 20 rows\n",
      "\n"
     ]
    }
   ],
   "source": [
    "df_review.select('review_id') \\\n",
    "    .groupBy('review_id') \\\n",
    "    .count() \\\n",
    "    .sort(F.desc('count')) \\\n",
    "    .show()\n",
    "# There is no duplicates in review_id"
   ]
  },
  {
   "cell_type": "code",
   "execution_count": 9,
   "metadata": {
    "scrolled": true
   },
   "outputs": [
    {
     "name": "stdout",
     "output_type": "stream",
     "text": [
      "+--------------------+----+-------------------+-----+--------------------+-----+--------------------+------+--------------------+\n",
      "|         business_id|cool|               date|funny|           review_id|stars|                text|useful|             user_id|\n",
      "+--------------------+----+-------------------+-----+--------------------+-----+--------------------+------+--------------------+\n",
      "|-MhfebM0QIsKt87iD...|   0|2015-04-15 05:21:16|    0|xQY8N_XvtGbearJ5X...|  2.0|As someone who ha...|     5|OwjRMXRC0KyPrIlcj...|\n",
      "|lbrU8StCq3yDfr-QM...|   0|2013-12-07 03:16:52|    1|UmFMZ8PyXZTY2Qcwz...|  1.0|I am actually hor...|     1|nIJD_7ZXHq-FX8byP...|\n",
      "|HQl28KMwrEKHqhFrr...|   0|2015-12-05 03:18:11|    0|LG2ZaYiOgpr2DK_90...|  5.0|I love Deagan's. ...|     1|V34qejxNsCbcgD8C0...|\n",
      "|5JxlZaqCnk1MnbgRi...|   0|2011-05-27 05:30:52|    0|i6g_oA9Yf9Y31qt0w...|  1.0|Dismal, lukewarm,...|     0|ofKDkJKXSKZXu5xJN...|\n",
      "|IS4cv902ykd8wj1TR...|   0|2017-01-14 21:56:57|    0|6TdNDKywdbjoTkize...|  4.0|Oh happy day, fin...|     0|UgMW8bLE0QMJDCkQ1...|\n",
      "|nlxHRv1zXGT0c0K51...|   0|2013-05-07 07:25:25|    0|L2O_INwlrRuoX05KS...|  5.0|This is definitel...|     2|5vD2kmE25YBrbayKh...|\n",
      "|Pthe4qk5xh4n-ef-9...|   0|2015-11-05 23:11:05|    0|ZayJ1zWyWgY9S_TRL...|  5.0|Really good place...|     1|aq_ZxGHiri48TUXJl...|\n",
      "|FNCJpSn0tL9iqoY3J...|   0|2017-07-18 18:31:54|    0|lpFIJYpsvDxyph-kP...|  5.0|Awesome office an...|     0|dsd-KNYKMpx6ma_sR...|\n",
      "|e_BiI4ej1CW1F0EyV...|   0|2015-02-16 06:48:47|    0|JA-xnyHytKiOIHl_z...|  5.0|Most delicious au...|     0|P6apihD4ASf1vpPxH...|\n",
      "|Ws8V970-mQt2X9CwC...|   1|2009-10-13 04:16:41|    0|z4BCgTkfNtCu4XY5L...|  4.0|I have been here ...|     3|jOERvhmK6_lo_XGUB...|\n",
      "|PA61Rwk3AMwOEXHev...|   0|2013-12-28 21:02:55|    0|TfVth7UNfgilv4J3e...|  5.0|Maria is VERY goo...|     0|s5j_CRBWDCCMDJ6r7...|\n",
      "|l-nL4BmhzpZjcavoo...|   1|2015-10-17 01:38:13|    1|Tyx7AxYQfSRnBFUIX...|  4.0|ORDER In (Deliver...|     2|HJECayULRM-6xh2GC...|\n",
      "|Naa6E0YU0Wr7jCuCE...|   0|2015-07-03 21:48:51|    0|wJMjt5C2y1RKgY0Xb...|  5.0|We purchased new ...|     3|1YIQGP-a534nyksaw...|\n",
      "|Ns4tjgLfqR1qawGlN...|   0|2016-06-11 22:00:11|    0|QCxPzh7cuxJrLd6A_...|  5.0|Everything that m...|     0|qftVgPj_kRTildMDj...|\n",
      "|ZlCSsWS07JulSBIQl...|   0|2015-05-26 10:36:47|    0|qWHp2l2lysENZObh6...|  5.0|Called for a 5:15...|     1|5lb0POg2t-AkMFx66...|\n",
      "|7Ka9Pd8X9SRHs1D5E...|   0|2017-08-07 21:36:36|    0|mjbs5CL4eMu4o6_Vt...|  1.0|If I could give l...|     0|TF4C-F5iqavACQgKT...|\n",
      "|d4qwVw4PcN-_2mK2o...|   0|2015-02-02 06:28:00|    0|bVTjZgRNq8Toxzvti...|  1.0|10pm on a super b...|     0|2hRe26HSCAWbFRn5W...|\n",
      "|oVuZtlCFg_zF090Nh...|   1|2018-02-01 19:15:00|    0|Ne_2CSfcKIqXHmv_K...|  4.0|A close friend wa...|     3|6sJN_HlM_uwpfLJ1p...|\n",
      "|_iGvLfEsqDwPUxRUA...|   0|2017-06-28 00:39:18|    0|Hy-gUXQh3RVhE8FLH...|  1.0|Tried to have my ...|     0|kMkWON2lmw0s-M-fw...|\n",
      "|poSV39UqEg-gpESXa...|   0|2018-03-04 01:03:53|    0|UGErdm6bt48SXTVwJ...|  3.0|My husband and I ...|     0|QodunSzok4nIYFNrT...|\n",
      "+--------------------+----+-------------------+-----+--------------------+-----+--------------------+------+--------------------+\n",
      "only showing top 20 rows\n",
      "\n"
     ]
    }
   ],
   "source": [
    "df_review.show()"
   ]
  },
  {
   "cell_type": "code",
   "execution_count": 10,
   "metadata": {},
   "outputs": [
    {
     "name": "stdout",
     "output_type": "stream",
     "text": [
      "+-----------+----+----+-----+---------+-----+----+------+-------+\n",
      "|business_id|cool|date|funny|review_id|stars|text|useful|user_id|\n",
      "+-----------+----+----+-----+---------+-----+----+------+-------+\n",
      "|          0|   0|   0|    0|        0|    0|   0|     0|      0|\n",
      "+-----------+----+----+-----+---------+-----+----+------+-------+\n",
      "\n"
     ]
    }
   ],
   "source": [
    "# Check missing values\n",
    "df_review \\\n",
    "    .select(*(F.sum(F.col(c).isNull().cast(\"int\")).alias(c) for c in df_review.columns)) \\\n",
    "    .show()\n",
    "# There is no missing values. It's a great news."
   ]
  },
  {
   "cell_type": "code",
   "execution_count": 11,
   "metadata": {},
   "outputs": [],
   "source": [
    "# Change the date column to timestamp\n",
    "df_review = df_review \\\n",
    "    .withColumn('time_stamp',\n",
    "                F.unix_timestamp('date', 'yyyy-MM-dd HH:mm:ss') \\\n",
    "                    .cast(T.TimestampType())) \\\n",
    "    .drop('date')"
   ]
  },
  {
   "cell_type": "code",
   "execution_count": 12,
   "metadata": {},
   "outputs": [
    {
     "data": {
      "text/plain": [
       "[Row(business_id='-MhfebM0QIsKt87iDN-FNw', cool=0, funny=0, review_id='xQY8N_XvtGbearJ5X4QryQ', stars=2.0, text='As someone who has worked with many museums, I was eager to visit this gallery on my most recent trip to Las Vegas. When I saw they would be showing infamous eggs of the House of Faberge from the Virginia Museum of Fine Arts (VMFA), I knew I had to go!\\n\\nTucked away near the gelateria and the garden, the Gallery is pretty much hidden from view. It\\'s what real estate agents would call \"cozy\" or \"charming\" - basically any euphemism for small.\\n\\nThat being said, you can still see wonderful art at a gallery of any size, so why the two *s you ask? Let me tell you:\\n\\n* pricing for this, while relatively inexpensive for a Las Vegas attraction, is completely over the top. For the space and the amount of art you can fit in there, it is a bit much.\\n* it\\'s not kid friendly at all. Seriously, don\\'t bring them.\\n* the security is not trained properly for the show. When the curating and design teams collaborate for exhibitions, there is a definite flow. That means visitors should view the art in a certain sequence, whether it be by historical period or cultural significance (this is how audio guides are usually developed). When I arrived in the gallery I could not tell where to start, and security was certainly not helpful. I was told to \"just look around\" and \"do whatever.\" \\n\\nAt such a *fine* institution, I find the lack of knowledge and respect for the art appalling.', useful=5, user_id='OwjRMXRC0KyPrIlcjaXeFQ', time_stamp=datetime.datetime(2015, 4, 15, 5, 21, 16))]"
      ]
     },
     "execution_count": 12,
     "metadata": {},
     "output_type": "execute_result"
    }
   ],
   "source": [
    "df_review.take(1)"
   ]
  },
  {
   "cell_type": "markdown",
   "metadata": {},
   "source": [
    "The next steps for the review:\n",
    "    1. Feature engineering based on the text.\n",
    "    2. Process the reveiw text for word cloud.(eg. Split the words)"
   ]
  },
  {
   "cell_type": "markdown",
   "metadata": {},
   "source": [
    "### Data Cleansing for business"
   ]
  },
  {
   "cell_type": "code",
   "execution_count": 13,
   "metadata": {},
   "outputs": [],
   "source": [
    "def flatten_df(nested_df):\n",
    "    flat_cols = [c[0] for c in nested_df.dtypes if c[1][:6] != 'struct']\n",
    "    nested_cols = [c[0] for c in nested_df.dtypes if (c[1][:6] == 'struct')]\n",
    "\n",
    "    flat_df = nested_df.select(flat_cols +\n",
    "                               [F.col(nc+'.'+c).alias(nc+'_'+c)\n",
    "                                for nc in nested_cols\n",
    "                                for c in nested_df.select(nc+'.*').columns])\n",
    "    return flat_df"
   ]
  },
  {
   "cell_type": "code",
   "execution_count": 14,
   "metadata": {
    "scrolled": true
   },
   "outputs": [
    {
     "name": "stdout",
     "output_type": "stream",
     "text": [
      "root\n",
      " |-- address: string (nullable = true)\n",
      " |-- business_id: string (nullable = true)\n",
      " |-- categories: string (nullable = true)\n",
      " |-- city: string (nullable = true)\n",
      " |-- is_open: long (nullable = true)\n",
      " |-- latitude: double (nullable = true)\n",
      " |-- longitude: double (nullable = true)\n",
      " |-- name: string (nullable = true)\n",
      " |-- postal_code: string (nullable = true)\n",
      " |-- review_count: long (nullable = true)\n",
      " |-- stars: double (nullable = true)\n",
      " |-- state: string (nullable = true)\n",
      " |-- attributes_AcceptsInsurance: string (nullable = true)\n",
      " |-- attributes_AgesAllowed: string (nullable = true)\n",
      " |-- attributes_Alcohol: string (nullable = true)\n",
      " |-- attributes_Ambience: string (nullable = true)\n",
      " |-- attributes_BYOB: string (nullable = true)\n",
      " |-- attributes_BYOBCorkage: string (nullable = true)\n",
      " |-- attributes_BestNights: string (nullable = true)\n",
      " |-- attributes_BikeParking: string (nullable = true)\n",
      " |-- attributes_BusinessAcceptsBitcoin: string (nullable = true)\n",
      " |-- attributes_BusinessAcceptsCreditCards: string (nullable = true)\n",
      " |-- attributes_BusinessParking: string (nullable = true)\n",
      " |-- attributes_ByAppointmentOnly: string (nullable = true)\n",
      " |-- attributes_Caters: string (nullable = true)\n",
      " |-- attributes_CoatCheck: string (nullable = true)\n",
      " |-- attributes_Corkage: string (nullable = true)\n",
      " |-- attributes_DietaryRestrictions: string (nullable = true)\n",
      " |-- attributes_DogsAllowed: string (nullable = true)\n",
      " |-- attributes_DriveThru: string (nullable = true)\n",
      " |-- attributes_GoodForDancing: string (nullable = true)\n",
      " |-- attributes_GoodForKids: string (nullable = true)\n",
      " |-- attributes_GoodForMeal: string (nullable = true)\n",
      " |-- attributes_HairSpecializesIn: string (nullable = true)\n",
      " |-- attributes_HappyHour: string (nullable = true)\n",
      " |-- attributes_HasTV: string (nullable = true)\n",
      " |-- attributes_Music: string (nullable = true)\n",
      " |-- attributes_NoiseLevel: string (nullable = true)\n",
      " |-- attributes_Open24Hours: string (nullable = true)\n",
      " |-- attributes_OutdoorSeating: string (nullable = true)\n",
      " |-- attributes_RestaurantsAttire: string (nullable = true)\n",
      " |-- attributes_RestaurantsCounterService: string (nullable = true)\n",
      " |-- attributes_RestaurantsDelivery: string (nullable = true)\n",
      " |-- attributes_RestaurantsGoodForGroups: string (nullable = true)\n",
      " |-- attributes_RestaurantsPriceRange2: string (nullable = true)\n",
      " |-- attributes_RestaurantsReservations: string (nullable = true)\n",
      " |-- attributes_RestaurantsTableService: string (nullable = true)\n",
      " |-- attributes_RestaurantsTakeOut: string (nullable = true)\n",
      " |-- attributes_Smoking: string (nullable = true)\n",
      " |-- attributes_WheelchairAccessible: string (nullable = true)\n",
      " |-- attributes_WiFi: string (nullable = true)\n",
      " |-- hours_Friday: string (nullable = true)\n",
      " |-- hours_Monday: string (nullable = true)\n",
      " |-- hours_Saturday: string (nullable = true)\n",
      " |-- hours_Sunday: string (nullable = true)\n",
      " |-- hours_Thursday: string (nullable = true)\n",
      " |-- hours_Tuesday: string (nullable = true)\n",
      " |-- hours_Wednesday: string (nullable = true)\n",
      "\n"
     ]
    }
   ],
   "source": [
    "# flatten the df_business\n",
    "df_business = flatten_df(df_business)\n",
    "df_business.printSchema()"
   ]
  },
  {
   "cell_type": "code",
   "execution_count": 15,
   "metadata": {},
   "outputs": [],
   "source": [
    "# The attributes_BusinessParking still contains a bunch of information\n",
    "json_schema = T.StructType([T.StructField(\"garage\", T.StringType()), \n",
    "                            T.StructField(\"street\", T.StringType()),\n",
    "                            T.StructField(\"validated\", T.StringType()),\n",
    "                            T.StructField(\"lot\", T.StringType()),\n",
    "                            T.StructField(\"valet\", T.StringType())\n",
    "                           ])"
   ]
  },
  {
   "cell_type": "code",
   "execution_count": 16,
   "metadata": {},
   "outputs": [],
   "source": [
    "# Convert the attributes_BusinessParking to json format and update the schema\n",
    "df_business = df_business \\\n",
    "    .withColumn('attributes_BusinessParking', F.regexp_replace('attributes_BusinessParking', '\\'', '\\\"')) \\\n",
    "    .withColumn('attributes_BusinessParking', F.regexp_replace('attributes_BusinessParking', 'False', '\"False\"')) \\\n",
    "    .withColumn('attributes_BusinessParking', F.regexp_replace('attributes_BusinessParking', 'True', '\"True\"')) \\\n",
    "    .withColumn('attributes_BusinessParking', F.regexp_replace('attributes_BusinessParking', ' ', ''))"
   ]
  },
  {
   "cell_type": "code",
   "execution_count": 17,
   "metadata": {
    "scrolled": true
   },
   "outputs": [
    {
     "name": "stdout",
     "output_type": "stream",
     "text": [
      "root\n",
      " |-- address: string (nullable = true)\n",
      " |-- business_id: string (nullable = true)\n",
      " |-- categories: string (nullable = true)\n",
      " |-- city: string (nullable = true)\n",
      " |-- is_open: long (nullable = true)\n",
      " |-- latitude: double (nullable = true)\n",
      " |-- longitude: double (nullable = true)\n",
      " |-- name: string (nullable = true)\n",
      " |-- postal_code: string (nullable = true)\n",
      " |-- review_count: long (nullable = true)\n",
      " |-- stars: double (nullable = true)\n",
      " |-- state: string (nullable = true)\n",
      " |-- attributes_AcceptsInsurance: string (nullable = true)\n",
      " |-- attributes_AgesAllowed: string (nullable = true)\n",
      " |-- attributes_Alcohol: string (nullable = true)\n",
      " |-- attributes_Ambience: string (nullable = true)\n",
      " |-- attributes_BYOB: string (nullable = true)\n",
      " |-- attributes_BYOBCorkage: string (nullable = true)\n",
      " |-- attributes_BestNights: string (nullable = true)\n",
      " |-- attributes_BikeParking: string (nullable = true)\n",
      " |-- attributes_BusinessAcceptsBitcoin: string (nullable = true)\n",
      " |-- attributes_BusinessAcceptsCreditCards: string (nullable = true)\n",
      " |-- attributes_ByAppointmentOnly: string (nullable = true)\n",
      " |-- attributes_Caters: string (nullable = true)\n",
      " |-- attributes_CoatCheck: string (nullable = true)\n",
      " |-- attributes_Corkage: string (nullable = true)\n",
      " |-- attributes_DietaryRestrictions: string (nullable = true)\n",
      " |-- attributes_DogsAllowed: string (nullable = true)\n",
      " |-- attributes_DriveThru: string (nullable = true)\n",
      " |-- attributes_GoodForDancing: string (nullable = true)\n",
      " |-- attributes_GoodForKids: string (nullable = true)\n",
      " |-- attributes_GoodForMeal: string (nullable = true)\n",
      " |-- attributes_HairSpecializesIn: string (nullable = true)\n",
      " |-- attributes_HappyHour: string (nullable = true)\n",
      " |-- attributes_HasTV: string (nullable = true)\n",
      " |-- attributes_Music: string (nullable = true)\n",
      " |-- attributes_NoiseLevel: string (nullable = true)\n",
      " |-- attributes_Open24Hours: string (nullable = true)\n",
      " |-- attributes_OutdoorSeating: string (nullable = true)\n",
      " |-- attributes_RestaurantsAttire: string (nullable = true)\n",
      " |-- attributes_RestaurantsCounterService: string (nullable = true)\n",
      " |-- attributes_RestaurantsDelivery: string (nullable = true)\n",
      " |-- attributes_RestaurantsGoodForGroups: string (nullable = true)\n",
      " |-- attributes_RestaurantsPriceRange2: string (nullable = true)\n",
      " |-- attributes_RestaurantsReservations: string (nullable = true)\n",
      " |-- attributes_RestaurantsTableService: string (nullable = true)\n",
      " |-- attributes_RestaurantsTakeOut: string (nullable = true)\n",
      " |-- attributes_Smoking: string (nullable = true)\n",
      " |-- attributes_WheelchairAccessible: string (nullable = true)\n",
      " |-- attributes_WiFi: string (nullable = true)\n",
      " |-- hours_Friday: string (nullable = true)\n",
      " |-- hours_Monday: string (nullable = true)\n",
      " |-- hours_Saturday: string (nullable = true)\n",
      " |-- hours_Sunday: string (nullable = true)\n",
      " |-- hours_Thursday: string (nullable = true)\n",
      " |-- hours_Tuesday: string (nullable = true)\n",
      " |-- hours_Wednesday: string (nullable = true)\n",
      " |-- attributes_BusinessParking_garage: string (nullable = true)\n",
      " |-- attributes_BusinessParking_street: string (nullable = true)\n",
      " |-- attributes_BusinessParking_validated: string (nullable = true)\n",
      " |-- attributes_BusinessParking_lot: string (nullable = true)\n",
      " |-- attributes_BusinessParking_valet: string (nullable = true)\n",
      "\n"
     ]
    }
   ],
   "source": [
    "df_business = df_business.withColumn('attributes_BusinessParking', F.from_json('attributes_BusinessParking', json_schema))\n",
    "df_business = flatten_df(df_business)\n",
    "df_business.printSchema()"
   ]
  },
  {
   "cell_type": "code",
   "execution_count": 18,
   "metadata": {},
   "outputs": [
    {
     "data": {
      "text/plain": [
       "[Row(address='10913 Bailey Rd', business_id='f9NumwFMBDn751xgFiRbNA', categories='Active Life, Gun/Rifle Ranges, Guns & Ammo, Shopping', city='Cornelius', is_open=1, latitude=35.4627242, longitude=-80.8526119, name='The Range At Lake Norman', postal_code='28031', review_count=36, stars=3.5, state='NC', attributes_AcceptsInsurance=None, attributes_AgesAllowed=None, attributes_Alcohol=None, attributes_Ambience=None, attributes_BYOB=None, attributes_BYOBCorkage=None, attributes_BestNights=None, attributes_BikeParking='True', attributes_BusinessAcceptsBitcoin=None, attributes_BusinessAcceptsCreditCards='True', attributes_ByAppointmentOnly='False', attributes_Caters=None, attributes_CoatCheck=None, attributes_Corkage=None, attributes_DietaryRestrictions=None, attributes_DogsAllowed=None, attributes_DriveThru=None, attributes_GoodForDancing=None, attributes_GoodForKids='False', attributes_GoodForMeal=None, attributes_HairSpecializesIn=None, attributes_HappyHour=None, attributes_HasTV=None, attributes_Music=None, attributes_NoiseLevel=None, attributes_Open24Hours=None, attributes_OutdoorSeating=None, attributes_RestaurantsAttire=None, attributes_RestaurantsCounterService=None, attributes_RestaurantsDelivery=None, attributes_RestaurantsGoodForGroups=None, attributes_RestaurantsPriceRange2='3', attributes_RestaurantsReservations=None, attributes_RestaurantsTableService=None, attributes_RestaurantsTakeOut=None, attributes_Smoking=None, attributes_WheelchairAccessible=None, attributes_WiFi=None, hours_Friday='11:0-20:0', hours_Monday='10:0-18:0', hours_Saturday='11:0-20:0', hours_Sunday='13:0-18:0', hours_Thursday='11:0-20:0', hours_Tuesday='11:0-20:0', hours_Wednesday='10:0-18:0', attributes_BusinessParking_garage='False', attributes_BusinessParking_street='False', attributes_BusinessParking_validated='False', attributes_BusinessParking_lot='True', attributes_BusinessParking_valet='False')]"
      ]
     },
     "execution_count": 18,
     "metadata": {},
     "output_type": "execute_result"
    }
   ],
   "source": [
    "df_business.take(1)"
   ]
  },
  {
   "cell_type": "code",
   "execution_count": 19,
   "metadata": {},
   "outputs": [],
   "source": [
    "def convert_bool(df):\n",
    "    attribs = [c[0] for c in df.dtypes if ('attributes' in c[0])]\n",
    "    for a in attribs:\n",
    "        df = df.withColumn(a,\n",
    "                           df[a].cast(T.BooleanType()))\n",
    "    return df"
   ]
  },
  {
   "cell_type": "code",
   "execution_count": 20,
   "metadata": {},
   "outputs": [],
   "source": [
    "# Update columns with correct datatype\n",
    "# Convert is_open to boolean\n",
    "df_business = df_business.withColumn('is_open',\n",
    "                                     df_business['is_open'] \\\n",
    "                                     .cast(T.BooleanType()))\n",
    "df_business = convert_bool(df_business)"
   ]
  },
  {
   "cell_type": "code",
   "execution_count": 21,
   "metadata": {
    "scrolled": true
   },
   "outputs": [
    {
     "data": {
      "text/plain": [
       "[Row(address='10913 Bailey Rd', business_id='f9NumwFMBDn751xgFiRbNA', categories='Active Life, Gun/Rifle Ranges, Guns & Ammo, Shopping', city='Cornelius', is_open=True, latitude=35.4627242, longitude=-80.8526119, name='The Range At Lake Norman', postal_code='28031', review_count=36, stars=3.5, state='NC', attributes_AcceptsInsurance=None, attributes_AgesAllowed=None, attributes_Alcohol=None, attributes_Ambience=None, attributes_BYOB=None, attributes_BYOBCorkage=None, attributes_BestNights=None, attributes_BikeParking=True, attributes_BusinessAcceptsBitcoin=None, attributes_BusinessAcceptsCreditCards=True, attributes_ByAppointmentOnly=False, attributes_Caters=None, attributes_CoatCheck=None, attributes_Corkage=None, attributes_DietaryRestrictions=None, attributes_DogsAllowed=None, attributes_DriveThru=None, attributes_GoodForDancing=None, attributes_GoodForKids=False, attributes_GoodForMeal=None, attributes_HairSpecializesIn=None, attributes_HappyHour=None, attributes_HasTV=None, attributes_Music=None, attributes_NoiseLevel=None, attributes_Open24Hours=None, attributes_OutdoorSeating=None, attributes_RestaurantsAttire=None, attributes_RestaurantsCounterService=None, attributes_RestaurantsDelivery=None, attributes_RestaurantsGoodForGroups=None, attributes_RestaurantsPriceRange2=None, attributes_RestaurantsReservations=None, attributes_RestaurantsTableService=None, attributes_RestaurantsTakeOut=None, attributes_Smoking=None, attributes_WheelchairAccessible=None, attributes_WiFi=None, hours_Friday='11:0-20:0', hours_Monday='10:0-18:0', hours_Saturday='11:0-20:0', hours_Sunday='13:0-18:0', hours_Thursday='11:0-20:0', hours_Tuesday='11:0-20:0', hours_Wednesday='10:0-18:0', attributes_BusinessParking_garage=False, attributes_BusinessParking_street=False, attributes_BusinessParking_validated=False, attributes_BusinessParking_lot=True, attributes_BusinessParking_valet=False)]"
      ]
     },
     "execution_count": 21,
     "metadata": {},
     "output_type": "execute_result"
    }
   ],
   "source": [
    "df_business.take(1)"
   ]
  },
  {
   "cell_type": "code",
   "execution_count": 22,
   "metadata": {
    "scrolled": true
   },
   "outputs": [
    {
     "name": "stdout",
     "output_type": "stream",
     "text": [
      "+-----+-----+\n",
      "|state|count|\n",
      "+-----+-----+\n",
      "|   AZ|60803|\n",
      "|   NV|39084|\n",
      "|   ON|36627|\n",
      "|   OH|16392|\n",
      "|   NC|16218|\n",
      "|   PA|12376|\n",
      "|   QC|10233|\n",
      "|   AB| 8682|\n",
      "|   WI| 5525|\n",
      "|   IL| 2034|\n",
      "|   SC| 1328|\n",
      "|   CA|   23|\n",
      "|   NY|   22|\n",
      "|   TX|    6|\n",
      "|   WA|    5|\n",
      "|   AL|    3|\n",
      "|   GA|    3|\n",
      "|   FL|    3|\n",
      "|   BC|    2|\n",
      "|   MI|    2|\n",
      "+-----+-----+\n",
      "only showing top 20 rows\n",
      "\n"
     ]
    }
   ],
   "source": [
    "# Since it's just a subset of yelp's data, \n",
    "# let's check out which state has the most data \n",
    "# and we will focus on that state in order to make a meaningful data model\n",
    "df_business \\\n",
    "    .groupBy('state') \\\n",
    "    .count() \\\n",
    "    .sort(F.desc('count')) \\\n",
    "    .show()\n",
    "\n",
    "# Since AZ has the most data, we will include all data in AZ."
   ]
  },
  {
   "cell_type": "code",
   "execution_count": 23,
   "metadata": {},
   "outputs": [
    {
     "data": {
      "text/plain": [
       "209393"
      ]
     },
     "execution_count": 23,
     "metadata": {},
     "output_type": "execute_result"
    }
   ],
   "source": [
    "# Check total rows.\n",
    "df_business.count()"
   ]
  },
  {
   "cell_type": "code",
   "execution_count": 24,
   "metadata": {},
   "outputs": [],
   "source": [
    "df_business = df_business.filter(F.col('state') == 'AZ')"
   ]
  },
  {
   "cell_type": "code",
   "execution_count": 25,
   "metadata": {
    "scrolled": true
   },
   "outputs": [
    {
     "name": "stdout",
     "output_type": "stream",
     "text": [
      "+------------+------+\n",
      "|hours_Monday|length|\n",
      "+------------+------+\n",
      "| 10:30-19:30|    11|\n",
      "| 14:30-19:30|    11|\n",
      "| 17:30-22:30|    11|\n",
      "| 15:30-21:30|    11|\n",
      "| 10:45-21:15|    11|\n",
      "| 16:30-19:45|    11|\n",
      "| 10:30-22:15|    11|\n",
      "| 19:30-14:30|    11|\n",
      "| 16:15-19:15|    11|\n",
      "| 13:30-18:30|    11|\n",
      "| 11:30-18:30|    11|\n",
      "| 17:30-21:30|    11|\n",
      "| 14:30-18:30|    11|\n",
      "| 11:15-21:45|    11|\n",
      "| 12:45-21:45|    11|\n",
      "| 14:30-20:30|    11|\n",
      "| 12:30-21:30|    11|\n",
      "| 16:45-20:30|    11|\n",
      "| 10:30-18:30|    11|\n",
      "| 10:30-15:30|    11|\n",
      "+------------+------+\n",
      "only showing top 20 rows\n",
      "\n"
     ]
    }
   ],
   "source": [
    "# We will do feature engineering for hours columns later, first lets check if there are any weird formats.\n",
    "df_business.select('hours_Monday') \\\n",
    "    .dropDuplicates() \\\n",
    "    .withColumn('length', F.length('hours_Monday')) \\\n",
    "    .sort(F.desc('length')) \\\n",
    "    .show()"
   ]
  },
  {
   "cell_type": "code",
   "execution_count": 26,
   "metadata": {},
   "outputs": [
    {
     "data": {
      "text/plain": [
       "[Row(address=0, business_id=0, categories=161, city=0, is_open=0, latitude=0, longitude=0, name=0, postal_code=0, review_count=0, stars=0, state=0, attributes_AcceptsInsurance=56813, attributes_AgesAllowed=60803, attributes_Alcohol=60803, attributes_Ambience=60803, attributes_BYOB=60617, attributes_BYOBCorkage=60803, attributes_BestNights=60803, attributes_BikeParking=38262, attributes_BusinessAcceptsBitcoin=53907, attributes_BusinessAcceptsCreditCards=12931, attributes_ByAppointmentOnly=37137, attributes_Caters=50853, attributes_CoatCheck=59604, attributes_Corkage=60430, attributes_DietaryRestrictions=60803, attributes_DogsAllowed=55939, attributes_DriveThru=59482, attributes_GoodForDancing=59655, attributes_GoodForKids=45563, attributes_GoodForMeal=60803, attributes_HairSpecializesIn=60803, attributes_HappyHour=56447, attributes_HasTV=50203, attributes_Music=60803, attributes_NoiseLevel=60803, attributes_Open24Hours=60799, attributes_OutdoorSeating=48764, attributes_RestaurantsAttire=60803, attributes_RestaurantsCounterService=60797, attributes_RestaurantsDelivery=49433, attributes_RestaurantsGoodForGroups=49584, attributes_RestaurantsPriceRange2=51335, attributes_RestaurantsReservations=49805, attributes_RestaurantsTableService=56391, attributes_RestaurantsTakeOut=47379, attributes_Smoking=60803, attributes_WheelchairAccessible=52318, attributes_WiFi=60803, hours_Friday=12431, hours_Monday=14028, hours_Saturday=22248, hours_Sunday=34461, hours_Thursday=11929, hours_Tuesday=12399, hours_Wednesday=12027, attributes_BusinessParking_garage=33614, attributes_BusinessParking_street=33617, attributes_BusinessParking_validated=33618, attributes_BusinessParking_lot=33617, attributes_BusinessParking_valet=33615)]"
      ]
     },
     "execution_count": 26,
     "metadata": {},
     "output_type": "execute_result"
    }
   ],
   "source": [
    "# Check missing values\n",
    "df_business \\\n",
    "    .select(*(F.sum(F.col(c).isNull().cast(\"int\")).alias(c) for c in df_business.columns)) \\\n",
    "    .take(1)"
   ]
  },
  {
   "cell_type": "code",
   "execution_count": 27,
   "metadata": {},
   "outputs": [],
   "source": [
    "# Since there are too many missing values in attributes columns we will drop all these columns\n",
    "df_business = df_business.drop(*(c[0] for c in df_business.dtypes if ('attributes' in c[0])))"
   ]
  },
  {
   "cell_type": "markdown",
   "metadata": {},
   "source": [
    "We need to pay attentation to categories, when we create my data model."
   ]
  },
  {
   "cell_type": "markdown",
   "metadata": {},
   "source": [
    "The column categories contains some subcategories. We will need to get a full categories list from yelp API and reorganize the categories. \n",
    "\n",
    "The next steps:\n",
    "    1. Feature engineering for hours. Open time, close time, open duration.\n",
    "    2. Get full category list, look up the main category for the business.\n",
    "    3. Create new features for number of check-in, number of reviews, number of tips."
   ]
  },
  {
   "cell_type": "markdown",
   "metadata": {},
   "source": [
    "### Data cleansing for df_checkin"
   ]
  },
  {
   "cell_type": "code",
   "execution_count": 28,
   "metadata": {},
   "outputs": [
    {
     "name": "stdout",
     "output_type": "stream",
     "text": [
      "root\n",
      " |-- business_id: string (nullable = true)\n",
      " |-- date: string (nullable = true)\n",
      "\n"
     ]
    }
   ],
   "source": [
    "df_checkin.printSchema()"
   ]
  },
  {
   "cell_type": "code",
   "execution_count": 29,
   "metadata": {},
   "outputs": [
    {
     "data": {
      "text/plain": [
       "[Row(business_id='--1UhMGODdWsrMastO9DZw', date='2016-04-26 19:49:16, 2016-08-30 18:36:57, 2016-10-15 02:45:18, 2016-11-18 01:54:50, 2017-04-20 18:39:06, 2017-05-03 17:58:02, 2019-03-19 22:04:48')]"
      ]
     },
     "execution_count": 29,
     "metadata": {},
     "output_type": "execute_result"
    }
   ],
   "source": [
    "df_checkin.take(1)"
   ]
  },
  {
   "cell_type": "code",
   "execution_count": 30,
   "metadata": {},
   "outputs": [],
   "source": [
    "# We will create a column to count the number of check-in for each business id\n",
    "df_checkin = df_checkin \\\n",
    "    .withColumn('splitted', F.split('date', ', ')) \\\n",
    "    .withColumn('num_checkin', F.size('splitted'))"
   ]
  },
  {
   "cell_type": "code",
   "execution_count": 31,
   "metadata": {},
   "outputs": [
    {
     "data": {
      "text/plain": [
       "[Row(business_id='--1UhMGODdWsrMastO9DZw', date='2016-04-26 19:49:16, 2016-08-30 18:36:57, 2016-10-15 02:45:18, 2016-11-18 01:54:50, 2017-04-20 18:39:06, 2017-05-03 17:58:02, 2019-03-19 22:04:48', splitted=['2016-04-26 19:49:16', '2016-08-30 18:36:57', '2016-10-15 02:45:18', '2016-11-18 01:54:50', '2017-04-20 18:39:06', '2017-05-03 17:58:02', '2019-03-19 22:04:48'], num_checkin=7)]"
      ]
     },
     "execution_count": 31,
     "metadata": {},
     "output_type": "execute_result"
    }
   ],
   "source": [
    "df_checkin.take(1)"
   ]
  },
  {
   "cell_type": "markdown",
   "metadata": {},
   "source": [
    "We will not go any further with the checkin at this stage."
   ]
  },
  {
   "cell_type": "markdown",
   "metadata": {},
   "source": [
    "###  Data cleansing for df_tip"
   ]
  },
  {
   "cell_type": "code",
   "execution_count": 32,
   "metadata": {},
   "outputs": [
    {
     "name": "stdout",
     "output_type": "stream",
     "text": [
      "root\n",
      " |-- business_id: string (nullable = true)\n",
      " |-- compliment_count: long (nullable = true)\n",
      " |-- date: string (nullable = true)\n",
      " |-- text: string (nullable = true)\n",
      " |-- user_id: string (nullable = true)\n",
      "\n"
     ]
    }
   ],
   "source": [
    "df_tip.printSchema()"
   ]
  },
  {
   "cell_type": "code",
   "execution_count": 33,
   "metadata": {},
   "outputs": [
    {
     "data": {
      "text/plain": [
       "[Row(business_id='UYX5zL_Xj9WEc_Wp-FrqHw', compliment_count=0, date='2013-11-26 18:20:08', text='Here for a quick mtg', user_id='hf27xTME3EiCp6NL6VtWZQ'),\n",
       " Row(business_id='Ch3HkwQYv1YKw_FO06vBWA', compliment_count=0, date='2014-06-15 22:26:45', text='Cucumber strawberry refresher', user_id='uEvusDwoSymbJJ0auR3muQ')]"
      ]
     },
     "execution_count": 33,
     "metadata": {},
     "output_type": "execute_result"
    }
   ],
   "source": [
    "# We will not use this table for our project.\n",
    "df_tip.take(2)"
   ]
  },
  {
   "cell_type": "markdown",
   "metadata": {},
   "source": [
    "### Data cleansing for df_user"
   ]
  },
  {
   "cell_type": "code",
   "execution_count": 34,
   "metadata": {
    "scrolled": false
   },
   "outputs": [
    {
     "name": "stdout",
     "output_type": "stream",
     "text": [
      "root\n",
      " |-- average_stars: double (nullable = true)\n",
      " |-- compliment_cool: long (nullable = true)\n",
      " |-- compliment_cute: long (nullable = true)\n",
      " |-- compliment_funny: long (nullable = true)\n",
      " |-- compliment_hot: long (nullable = true)\n",
      " |-- compliment_list: long (nullable = true)\n",
      " |-- compliment_more: long (nullable = true)\n",
      " |-- compliment_note: long (nullable = true)\n",
      " |-- compliment_photos: long (nullable = true)\n",
      " |-- compliment_plain: long (nullable = true)\n",
      " |-- compliment_profile: long (nullable = true)\n",
      " |-- compliment_writer: long (nullable = true)\n",
      " |-- cool: long (nullable = true)\n",
      " |-- elite: string (nullable = true)\n",
      " |-- fans: long (nullable = true)\n",
      " |-- friends: string (nullable = true)\n",
      " |-- funny: long (nullable = true)\n",
      " |-- name: string (nullable = true)\n",
      " |-- review_count: long (nullable = true)\n",
      " |-- useful: long (nullable = true)\n",
      " |-- user_id: string (nullable = true)\n",
      " |-- yelping_since: string (nullable = true)\n",
      "\n"
     ]
    }
   ],
   "source": [
    "df_user.printSchema()"
   ]
  },
  {
   "cell_type": "code",
   "execution_count": 35,
   "metadata": {},
   "outputs": [
    {
     "data": {
      "text/plain": [
       "[Row(average_stars=3.57, compliment_cool=22, compliment_cute=0, compliment_funny=22, compliment_hot=3, compliment_list=1, compliment_more=2, compliment_note=11, compliment_photos=0, compliment_plain=15, compliment_profile=1, compliment_writer=10, cool=227, elite='', fans=14, friends='oeMvJh94PiGQnx_6GlndPQ, wm1z1PaJKvHgSDRKfwhfDg, IkRib6Xs91PPW7pon7VVig, A8Aq8f0-XvLBcyMk2GJdJQ, eEZM1kogR7eL4GOBZyPvBA, e1o1LN7ez5ckCpQeAab4iw, _HrJVzFaRFUhPva8cwBjpQ, pZeGZGzX-ROT_D5lam5uNg, 0S6EI51ej5J7dgYz3-O0lA, woDt8raW-AorxQM_tIE2eA, hWUnSE5gKXNe7bDc8uAG9A, c_3LDSO2RHwZ94_Q6j_O7w, -uv1wDiaplY6eXXS0VwQiA, QFjqxXn3acDC7hckFGUKMg, ErOqapICmHPTN8YobZIcfQ, mJLRvqLOKhqEdkgt9iEaCQ, VKX7jlScJSA-ja5hYRw12Q, ijIC9w5PRcj3dWVlanjZeg, CIZGlEw-Bp0rmkP8M6yQ9Q, OC6fT5WZ8EU7tEVJ3bzPBQ, UZSDGTDpycDzrlfUlyw2dQ, deL6e_z9xqZTIODKqnvRXQ, 5mG2ENw2PylIWElqHSMGqg, Uh5Kug2fvDd51RYmsNZkGg, 4dI4uoShugD9z84fYupelQ, EQpFHqGT9Tk6YSwORTtwpg, o4EGL2-ICGmRJzJ3GxB-vw, s8gK7sdVzJcYKcPv2dkZXw, vOYVZgb_GVe-kdtjQwSUHw, wBbjgHsrKr7BsPBrQwJf2w, p59u2EC_qcmCmLeX1jCi5Q, VSAZI1eHDrOPRWMK4Q2DIQ, efMfeI_dkhpeGykaRJqxfQ, x6qYcQ8_i0mMDzSLsFCbZg, K_zSmtNGw1fu-vmxyTVfCQ, 5IM6YPQCK-NABkXmHhlRGQ, U_w8ZMD26vnkeeS1sD7s4Q, AbfS_oXF8H6HJb5jFqhrLw, hbcjX4_D4KIfonNnwrH-cg, UKf66_MPz0zHCP70mF6p1g, hK2gYbxZRTqcqlSiQQcrtQ, 2Q45w_Twx_T9dXqlE16xtQ, BwRn8qcKSeA77HLaOTbfiQ, jouOn4VS_DtFPtMR2w8VDA, ESteyJabbfvqas6CEDs3pQ', funny=225, name='Rafael', review_count=553, useful=628, user_id='ntlvfPzc8eglqvk92iDIAw', yelping_since='2007-07-06 03:27:11')]"
      ]
     },
     "execution_count": 35,
     "metadata": {},
     "output_type": "execute_result"
    }
   ],
   "source": [
    "df_user.take(1)"
   ]
  },
  {
   "cell_type": "code",
   "execution_count": 36,
   "metadata": {},
   "outputs": [
    {
     "data": {
      "text/plain": [
       "1968703"
      ]
     },
     "execution_count": 36,
     "metadata": {},
     "output_type": "execute_result"
    }
   ],
   "source": [
    "# Check total rows.\n",
    "df_user.count()"
   ]
  },
  {
   "cell_type": "code",
   "execution_count": 37,
   "metadata": {},
   "outputs": [],
   "source": [
    "# Column elit. array of integers, the years the user was elite\n",
    "# Create a column number of elite, and number of friends\n",
    "def count_num(astr):\n",
    "    return len(list(filter(None, astr.split(','))))\n",
    "colSize = F.udf(lambda x: count_num(x), T.IntegerType())\n",
    "\n",
    "# Change type for yelping_since\n",
    "df_user = df_user \\\n",
    "    .withColumn('yelping_since',\n",
    "                F.unix_timestamp('yelping_since', 'yyyy-MM-dd HH:mm:ss') \\\n",
    "                    .cast(T.TimestampType())) \\\n",
    "    .withColumn('year', F.year('yelping_since').alias('year')) \\\n",
    "    .withColumn('month', F.month('yelping_since').alias('month')) \\\n",
    "    .withColumn('num_elite', colSize('elite')) \\\n",
    "    .withColumn('num_friends', colSize('friends'))"
   ]
  },
  {
   "cell_type": "code",
   "execution_count": 38,
   "metadata": {
    "scrolled": true
   },
   "outputs": [
    {
     "name": "stdout",
     "output_type": "stream",
     "text": [
      "+--------------------+---------+-----------+\n",
      "|               elite|num_elite|num_friends|\n",
      "+--------------------+---------+-----------+\n",
      "|                    |        0|         45|\n",
      "|2008,2009,2010,20...|        6|        213|\n",
      "|                2010|        1|         35|\n",
      "|                2009|        1|        173|\n",
      "|2009,2010,2011,20...|        9|        895|\n",
      "+--------------------+---------+-----------+\n",
      "only showing top 5 rows\n",
      "\n"
     ]
    }
   ],
   "source": [
    "df_user.select('elite', 'num_elite', 'num_friends').show(5)"
   ]
  },
  {
   "cell_type": "code",
   "execution_count": 39,
   "metadata": {
    "scrolled": true
   },
   "outputs": [],
   "source": [
    "# We will not include friends in our model, because we will not be using it.\n",
    "df_user = df_user.select('user_id', \n",
    "                         'name', \n",
    "                         'average_stars', \n",
    "                         'compliment_cool',\n",
    "                         'compliment_cute',\n",
    "                         'compliment_funny',\n",
    "                         'compliment_hot',\n",
    "                         'compliment_list',\n",
    "                         'compliment_more',\n",
    "                         'compliment_note',\n",
    "                         'compliment_photos', \n",
    "                         'compliment_plain',\n",
    "                         'compliment_profile',\n",
    "                         'compliment_writer',\n",
    "                         'cool',\n",
    "                         'fans',\n",
    "                         'funny',\n",
    "                         'review_count',\n",
    "                         'useful',\n",
    "                         'num_elite',\n",
    "                         'num_friends',\n",
    "                         #'friends',\n",
    "                         'yelping_since')"
   ]
  },
  {
   "cell_type": "code",
   "execution_count": 40,
   "metadata": {},
   "outputs": [
    {
     "data": {
      "text/plain": [
       "[Row(user_id=0, name=0, average_stars=0, compliment_cool=0, compliment_cute=0, compliment_funny=0, compliment_hot=0, compliment_list=0, compliment_more=0, compliment_note=0, compliment_photos=0, compliment_plain=0, compliment_profile=0, compliment_writer=0, cool=0, fans=0, funny=0, review_count=0, useful=0, num_elite=0, num_friends=0, yelping_since=0)]"
      ]
     },
     "execution_count": 40,
     "metadata": {},
     "output_type": "execute_result"
    }
   ],
   "source": [
    "# Check missing values\n",
    "df_user \\\n",
    "    .select(*(F.sum(F.col(c).isNull().cast(\"int\")).alias(c) for c in df_user.columns)) \\\n",
    "    .take(1)\n",
    "#There are no missing values in df_user"
   ]
  },
  {
   "cell_type": "markdown",
   "metadata": {},
   "source": [
    "## More data source"
   ]
  },
  {
   "cell_type": "markdown",
   "metadata": {},
   "source": [
    "### Yelp category from yelp API\n",
    "\n",
    "We will get a full list of yelp's category for main category and the level 1 subcategory."
   ]
  },
  {
   "cell_type": "code",
   "execution_count": 41,
   "metadata": {},
   "outputs": [],
   "source": [
    "df_category = spark.read.csv(project_dir + '/data/yelp-dataset/yelp_category.csv', header = True)"
   ]
  },
  {
   "cell_type": "code",
   "execution_count": 42,
   "metadata": {
    "scrolled": true
   },
   "outputs": [
    {
     "name": "stdout",
     "output_type": "stream",
     "text": [
      "root\n",
      " |-- _c0: string (nullable = true)\n",
      " |-- category: string (nullable = true)\n",
      " |-- subcategories: string (nullable = true)\n",
      "\n"
     ]
    }
   ],
   "source": [
    "df_category.printSchema()"
   ]
  },
  {
   "cell_type": "code",
   "execution_count": 43,
   "metadata": {},
   "outputs": [],
   "source": [
    "# change data type and rename index\n",
    "df_category = df_category \\\n",
    "    .withColumn('index', F.col('_c0').cast('integer')) \\\n",
    "    .drop('_c0')"
   ]
  },
  {
   "cell_type": "code",
   "execution_count": 44,
   "metadata": {
    "scrolled": true
   },
   "outputs": [],
   "source": [
    "# Create table for category level \n",
    "w = Window.partitionBy('subcategories').orderBy('category')\n",
    "df_cat=df_category.select('subcategories', 'category') \\\n",
    "    .dropna(how = 'any') \\\n",
    "    .withColumn('rn', F.row_number().over(w)) \\\n",
    "    .filter(F.col('rn')==1) \\\n",
    "    .drop('rn')\n",
    "df_subcat = df_category.select(df_category['subcategories'].alias('category')) \\\n",
    "    .dropDuplicates() \\\n",
    "    .withColumn('level', F.lit(2)) \\\n",
    "    .select('category', 'level')\n",
    "\n",
    "# Create category table by business_id\n",
    "df_business_cat = df_business \\\n",
    "    .select('business_id',F.col('categories').alias('category'), 'state') \\\n",
    "    .withColumn('category', F.split('category', ', ')) \\\n",
    "    .withColumn('category', F.explode('category'))\n",
    "\n",
    "# Filter out all rows except ones with level 2 (subcategories).\n",
    "df_business_cat = df_business_cat \\\n",
    "    .join(df_subcat, on='category', how='left_outer') \\\n",
    "    .filter(F.col('level'). isNotNull())\n",
    "\n",
    "# Look up the first main category based on each subcategory\n",
    "df_business_cat = df_business_cat.select('business_id', \n",
    "                                         F.col('category').alias('subcategories'),\n",
    "                                         'state') \\\n",
    "    .join(df_cat, on= 'subcategories', how='left_outer') \\\n",
    "    .select('business_id', 'category', 'subcategories', 'state')\n",
    "\n",
    "\n",
    "# Create join table for table business and table category.\n",
    "df_bussiness_cat_join = df_business_cat \\\n",
    "    .join(df_category, on =['category', 'subcategories'], how = 'left_outer') \\\n",
    "    .select('business_id', 'index', 'state') \\\n",
    "    .withColumn('state', F.when(F.col('state') == '', None).otherwise(F.col('state'))) \\\n",
    "    .withColumn('state', F.when(F.col('state').isNull(), 'OTHER').otherwise(F.col('state')))"
   ]
  },
  {
   "cell_type": "code",
   "execution_count": 45,
   "metadata": {
    "scrolled": false
   },
   "outputs": [
    {
     "data": {
      "text/plain": [
       "[Row(business_id='Yzvjg0SayhoZgCljUJRF9Q', index=15, state='AZ'),\n",
       " Row(business_id='51M2Kk903DFYI6gnB5I6SQ', index=86, state='AZ'),\n",
       " Row(business_id='51M2Kk903DFYI6gnB5I6SQ', index=340, state='AZ'),\n",
       " Row(business_id='51M2Kk903DFYI6gnB5I6SQ', index=460, state='AZ'),\n",
       " Row(business_id='51M2Kk903DFYI6gnB5I6SQ', index=258, state='AZ'),\n",
       " Row(business_id='cKyLV5oWZJ2NudWgqs8VZw', index=78, state='AZ'),\n",
       " Row(business_id='cKyLV5oWZJ2NudWgqs8VZw', index=664, state='AZ'),\n",
       " Row(business_id='cKyLV5oWZJ2NudWgqs8VZw', index=955, state='AZ'),\n",
       " Row(business_id='ScYkbYNkDgCneBrD9vqhCQ', index=78, state='AZ'),\n",
       " Row(business_id='ScYkbYNkDgCneBrD9vqhCQ', index=664, state='AZ')]"
      ]
     },
     "execution_count": 45,
     "metadata": {},
     "output_type": "execute_result"
    }
   ],
   "source": [
    "df_bussiness_cat_join.take(10)"
   ]
  },
  {
   "cell_type": "markdown",
   "metadata": {},
   "source": [
    "Now we can map each business with it's category and subcategory, so we can compare it with it's competitors or with the category average.\n",
    "\n",
    "There are businesses with multiple categories. Need to pay attention to this when we analyze the data."
   ]
  },
  {
   "cell_type": "markdown",
   "metadata": {},
   "source": [
    "### geo_location data and weather data\n",
    "\n",
    "The idea here is that we can use the histical weather data to find out if there is a relationship between reviews and weather."
   ]
  },
  {
   "cell_type": "code",
   "execution_count": 46,
   "metadata": {},
   "outputs": [],
   "source": [
    "#Geo_location\n",
    "df_geo = spark.read.csv(project_dir + '/data/yelp-dataset/geo_location.csv', header = True)"
   ]
  },
  {
   "cell_type": "code",
   "execution_count": 47,
   "metadata": {},
   "outputs": [
    {
     "name": "stdout",
     "output_type": "stream",
     "text": [
      "root\n",
      " |-- _c0: string (nullable = true)\n",
      " |-- latit_s: string (nullable = true)\n",
      " |-- longi_s: string (nullable = true)\n",
      " |-- station: string (nullable = true)\n",
      "\n"
     ]
    }
   ],
   "source": [
    "df_geo.printSchema()"
   ]
  },
  {
   "cell_type": "code",
   "execution_count": 48,
   "metadata": {
    "scrolled": true
   },
   "outputs": [
    {
     "name": "stdout",
     "output_type": "stream",
     "text": [
      "+---+-------+-------+-------+\n",
      "|_c0|latit_s|longi_s|station|\n",
      "+---+-------+-------+-------+\n",
      "|  0|   33.6| -111.9|   KPHX|\n",
      "|  1|   33.4| -111.7|   KIWA|\n",
      "|  2|   33.4| -111.8|   KIWA|\n",
      "|  3|   33.3| -112.0|   KPHX|\n",
      "|  4|   33.4| -111.9|   KPHX|\n",
      "|  5|   33.3| -111.7|   KIWA|\n",
      "|  6|   33.5| -112.2|   KPHX|\n",
      "|  7|   33.6| -112.0|   KPHX|\n",
      "|  8|   33.6| -112.4|   KPHX|\n",
      "|  9|   33.5| -112.1|   KPHX|\n",
      "| 10|   33.4| -112.0|   KPHX|\n",
      "| 11|   33.6| -112.2|   KPHX|\n",
      "| 12|   33.8| -112.1|   KPHX|\n",
      "| 13|   33.6| -112.1|   KPHX|\n",
      "| 14|   33.5| -111.9|   KPHX|\n",
      "| 15|   33.3| -111.9|   KPHX|\n",
      "| 16|   33.5| -112.4|   KPHX|\n",
      "| 17|   33.5| -112.0|   KPHX|\n",
      "| 18|   33.3| -111.8|   KIWA|\n",
      "| 19|   33.2| -111.8|   KIWA|\n",
      "| 20|   33.7| -111.9|   KPHX|\n",
      "| 21|   33.4| -112.1|   KPHX|\n",
      "| 22|   33.6| -111.7|   KIWA|\n",
      "| 23|   33.7| -112.2|   KPHX|\n",
      "| 24|   33.7| -112.1|   KPHX|\n",
      "| 25|   33.7| -112.0|   KPHX|\n",
      "| 26|   33.4| -111.6|   KIWA|\n",
      "| 27|   33.5| -112.3|   KPHX|\n",
      "| 28|   33.5| -111.7|   KIWA|\n",
      "| 29|   33.6| -111.8|   KPHX|\n",
      "| 30|   33.4| -112.2|   KPHX|\n",
      "| 31|   33.6| -112.3|   KPHX|\n",
      "| 32|   33.4| -112.4|   KPHX|\n",
      "| 33|   33.2| -111.9|   KIWA|\n",
      "| 34|   33.3| -112.1|   KPHX|\n",
      "| 35|   33.8| -112.0|   KPHX|\n",
      "| 36|   33.7| -112.4|   KPHX|\n",
      "| 37|   33.8| -111.9|   KPHX|\n",
      "| 38|   33.7| -111.8|   KPHX|\n",
      "| 39|   33.7| -112.3|   KPHX|\n",
      "| 40|   33.4| -112.3|   KPHX|\n",
      "| 41|   33.8| -111.8|   KPHX|\n",
      "| 42|   33.2| -111.7|   KIWA|\n",
      "| 43|   33.5| -112.5|   KPHX|\n",
      "| 44|   33.3| -112.3|   KPHX|\n",
      "| 45|   33.3| -112.4|   KPHX|\n",
      "| 46|   33.5| -111.8|   KPHX|\n",
      "| 47|   33.6| -112.5|   KPHX|\n",
      "| 48|   33.8| -112.3|   KPHX|\n",
      "| 49|   33.5| -111.6|   KIWA|\n",
      "| 50|   36.2| -115.2|   KVGT|\n",
      "| 51|   33.3| -112.2|   KPHX|\n",
      "| 52|   36.1| -115.2|   KLAS|\n",
      "| 53|   33.7| -112.5|   KPHX|\n",
      "| 54|   33.4| -112.5|   KPHX|\n",
      "| 55|   33.1| -111.9|   KIWA|\n",
      "| 56|   33.2| -112.4|   KPHX|\n",
      "| 57|   33.7| -111.7|   KPHX|\n",
      "| 58|   33.3| -112.5|   KPHX|\n",
      "| 59|   33.8| -112.2|   KPHX|\n",
      "| 60|   33.1| -112.3|   KPHX|\n",
      "| 61|   33.8| -112.4|   KPHX|\n",
      "+---+-------+-------+-------+\n",
      "\n"
     ]
    }
   ],
   "source": [
    "df_geo.show(100)"
   ]
  },
  {
   "cell_type": "code",
   "execution_count": 49,
   "metadata": {},
   "outputs": [],
   "source": [
    "# Change data type\n",
    "df_geo = df_geo \\\n",
    "    .withColumn('latit_s', F.col('latit_s').cast('double')) \\\n",
    "    .withColumn('longi_s', F.col('longi_s').cast('double'))"
   ]
  },
  {
   "cell_type": "code",
   "execution_count": 50,
   "metadata": {
    "scrolled": true
   },
   "outputs": [],
   "source": [
    "df_weather = spark.read.csv(project_dir + '/data/weather-data/*.csv', header = True)"
   ]
  },
  {
   "cell_type": "code",
   "execution_count": 51,
   "metadata": {
    "scrolled": true
   },
   "outputs": [
    {
     "name": "stdout",
     "output_type": "stream",
     "text": [
      "root\n",
      " |-- _c0: string (nullable = true)\n",
      " |-- station: string (nullable = true)\n",
      " |-- station_name: string (nullable = true)\n",
      " |-- date: string (nullable = true)\n",
      " |-- hour: string (nullable = true)\n",
      " |-- temp: string (nullable = true)\n",
      " |-- dew_point_f: string (nullable = true)\n",
      " |-- humidity%: string (nullable = true)\n",
      " |-- pressure: string (nullable = true)\n",
      " |-- precip_hrly: string (nullable = true)\n",
      " |-- condition: string (nullable = true)\n",
      " |-- uv_level: string (nullable = true)\n",
      " |-- feels_like: string (nullable = true)\n",
      "\n"
     ]
    }
   ],
   "source": [
    "df_weather.printSchema()"
   ]
  },
  {
   "cell_type": "code",
   "execution_count": 52,
   "metadata": {},
   "outputs": [
    {
     "data": {
      "text/plain": [
       "684525"
      ]
     },
     "execution_count": 52,
     "metadata": {},
     "output_type": "execute_result"
    }
   ],
   "source": [
    "# Count number of rows\n",
    "df_weather.count()"
   ]
  },
  {
   "cell_type": "code",
   "execution_count": 53,
   "metadata": {},
   "outputs": [
    {
     "name": "stdout",
     "output_type": "stream",
     "text": [
      "+---+-------+------------+----+----+------+-----------+---------+--------+-----------+---------+--------+----------+\n",
      "|_c0|station|station_name|date|hour|  temp|dew_point_f|humidity%|pressure|precip_hrly|condition|uv_level|feels_like|\n",
      "+---+-------+------------+----+----+------+-----------+---------+--------+-----------+---------+--------+----------+\n",
      "|  0|      0|           0|   0|   0|193052|     522279|   227074|  196499|     447853|   117688|  443358|    257220|\n",
      "+---+-------+------------+----+----+------+-----------+---------+--------+-----------+---------+--------+----------+\n",
      "\n"
     ]
    }
   ],
   "source": [
    "# Check missing values\n",
    "df_weather \\\n",
    "    .select(*(F.sum(F.col(c).isNull().cast(\"int\")).alias(c) for c in df_weather.columns)) \\\n",
    "    .show()\n",
    "# All columns except station, station_name,date and hour contians a lot of missing values.\n",
    "# Since we some data is back to 2004, the data is missing maybe because the station was not there back then."
   ]
  },
  {
   "cell_type": "code",
   "execution_count": 54,
   "metadata": {},
   "outputs": [],
   "source": [
    "# Change data type for df_weather\n",
    "\n",
    "df_weather = df_weather \\\n",
    "    .drop('_c0') \\\n",
    "    .dropDuplicates() \\\n",
    "    .withColumn('date', F.date_format(F.col('date'),'yyyy-MM-dd').cast('date')) \\\n",
    "    .withColumn('hour', F.col('hour').cast('integer')) \\\n",
    "    .withColumn('temp', F.col('temp').cast('double')) \\\n",
    "    .withColumn('dew_point_f', F.col('dew_point_f').cast('double')) \\\n",
    "    .withColumn('humidity%', F.col('humidity%').cast('double')) \\\n",
    "    .withColumn('pressure', F.col('pressure').cast('double')) \\\n",
    "    .withColumn('precip_hrly', F.col('precip_hrly').cast('double')) \\\n",
    "    .withColumn('feels_like', F.col('feels_like').cast('double')) \\\n",
    "    .withColumn('rn', F.row_number().over(Window.partitionBy(['station', 'date', 'hour']).orderBy('station_name'))) \\\n",
    "    .filter(F.col('rn')==1) \\\n",
    "    .drop('rn') \\\n",
    "    .withColumn('temp', F.lit('ABC')) \\\n",
    "    .withColumn('id', F.row_number().over(Window.partitionBy('temp').orderBy(F.lit('A')))) \\\n",
    "    .drop('temp')"
   ]
  },
  {
   "cell_type": "code",
   "execution_count": 55,
   "metadata": {
    "scrolled": true
   },
   "outputs": [
    {
     "data": {
      "text/plain": [
       "[Row(station='KIWA', station_name='Mesa/Gateway', date=datetime.date(2004, 1, 6), hour=11, dew_point_f=None, humidity%=44.0, pressure=None, precip_hrly=None, condition=None, uv_level=None, feels_like=None, id=1),\n",
       " Row(station='KIWA', station_name='Mesa/Gateway', date=datetime.date(2004, 1, 18), hour=23, dew_point_f=None, humidity%=28.0, pressure=None, precip_hrly=None, condition=None, uv_level=None, feels_like=None, id=2),\n",
       " Row(station='KIWA', station_name='Mesa/Gateway', date=datetime.date(2004, 1, 31), hour=10, dew_point_f=None, humidity%=None, pressure=None, precip_hrly=None, condition='Fair', uv_level=None, feels_like=None, id=3),\n",
       " Row(station='KIWA', station_name='Mesa/Gateway', date=datetime.date(2004, 2, 1), hour=5, dew_point_f=None, humidity%=66.0, pressure=None, precip_hrly=None, condition=None, uv_level=None, feels_like=None, id=4),\n",
       " Row(station='KIWA', station_name='Mesa/Gateway', date=datetime.date(2004, 2, 2), hour=6, dew_point_f=None, humidity%=None, pressure=None, precip_hrly=None, condition='Fair', uv_level=None, feels_like=None, id=5),\n",
       " Row(station='KIWA', station_name='Mesa/Gateway', date=datetime.date(2004, 2, 3), hour=14, dew_point_f=None, humidity%=None, pressure=None, precip_hrly=None, condition='Cloudy', uv_level=None, feels_like=None, id=6),\n",
       " Row(station='KIWA', station_name='Mesa/Gateway', date=datetime.date(2004, 2, 4), hour=23, dew_point_f=None, humidity%=None, pressure=None, precip_hrly=None, condition='Mostly Cloudy', uv_level=None, feels_like=None, id=7),\n",
       " Row(station='KIWA', station_name='Mesa/Gateway', date=datetime.date(2004, 2, 8), hour=11, dew_point_f=None, humidity%=None, pressure=None, precip_hrly=None, condition='Fair', uv_level=None, feels_like=None, id=8),\n",
       " Row(station='KIWA', station_name='Mesa/Gateway', date=datetime.date(2004, 2, 21), hour=1, dew_point_f=None, humidity%=None, pressure=None, precip_hrly=None, condition='Cloudy', uv_level=None, feels_like=None, id=9),\n",
       " Row(station='KIWA', station_name='Mesa/Gateway', date=datetime.date(2004, 2, 26), hour=20, dew_point_f=None, humidity%=None, pressure=None, precip_hrly=None, condition='Fair', uv_level=None, feels_like=None, id=10)]"
      ]
     },
     "execution_count": 55,
     "metadata": {},
     "output_type": "execute_result"
    }
   ],
   "source": [
    "df_weather.take(10)"
   ]
  },
  {
   "cell_type": "markdown",
   "metadata": {},
   "source": [
    "## Feature Engineering"
   ]
  },
  {
   "cell_type": "markdown",
   "metadata": {},
   "source": [
    "Next step is to conduct feature engineering to create some features"
   ]
  },
  {
   "cell_type": "markdown",
   "metadata": {},
   "source": [
    "### Table businesses\n",
    "\n",
    "Derived features.\n",
    "\n",
    "1. latit_s: latitude keeps one digit\n",
    "2. longi_s: longitude keeps one digit\n",
    "3. station: the cloest weather station where the business is located."
   ]
  },
  {
   "cell_type": "code",
   "execution_count": 56,
   "metadata": {
    "scrolled": true
   },
   "outputs": [],
   "source": [
    "df_business = df_business \\\n",
    "    .withColumn('latit_s', F.round(F.col('latitude'),1)) \\\n",
    "    .withColumn('longi_s', F.round(F.col('longitude'),1)) \\\n",
    "    .join(df_geo, on=['latit_s', 'longi_s'], how = 'left') \\\n",
    "    .drop('_c0', 'categories')"
   ]
  },
  {
   "cell_type": "code",
   "execution_count": 57,
   "metadata": {},
   "outputs": [
    {
     "data": {
      "text/plain": [
       "[Row(latit_s=33.6, longi_s=-111.9, address='8880 E Via Linda, Ste 107', business_id='Yzvjg0SayhoZgCljUJRF9Q', city='Scottsdale', is_open=True, latitude=33.5694041, longitude=-111.8902637, name='Carlos Santo, NMD', postal_code='85258', review_count=4, stars=5.0, state='AZ', hours_Friday=None, hours_Monday=None, hours_Saturday=None, hours_Sunday=None, hours_Thursday=None, hours_Tuesday=None, hours_Wednesday=None, station='KPHX'),\n",
       " Row(latit_s=33.4, longi_s=-111.7, address='4827 E Downing Cir', business_id='51M2Kk903DFYI6gnB5I6SQ', city='Mesa', is_open=True, latitude=33.4280652, longitude=-111.7266485, name='USE MY GUY SERVICES LLC', postal_code='85205', review_count=26, stars=4.5, state='AZ', hours_Friday='9:0-16:0', hours_Monday='0:0-0:0', hours_Saturday=None, hours_Sunday=None, hours_Thursday='9:0-16:0', hours_Tuesday='9:0-16:0', hours_Wednesday='9:0-16:0', station='KIWA')]"
      ]
     },
     "execution_count": 57,
     "metadata": {},
     "output_type": "execute_result"
    }
   ],
   "source": [
    "df_business.take(2)"
   ]
  },
  {
   "cell_type": "markdown",
   "metadata": {},
   "source": [
    "### Table reviews\n",
    "\n",
    "Derived features.\n",
    "\n",
    "1. word_split: a list of splitted words from column text\n",
    "2. word_count: number of words in word_split\n",
    "3. year: year of the review, store the data by partition by year and month\n",
    "4. month: month of the review.\n",
    "5. date: date of the review. date, hour, and station will be used as the foreign keys of the weather table.\n",
    "6. hour: hour of the review.\n",
    "7. station: the closest weather station the business is located."
   ]
  },
  {
   "cell_type": "code",
   "execution_count": 58,
   "metadata": {
    "scrolled": true
   },
   "outputs": [
    {
     "data": {
      "text/plain": [
       "[Row(business_id='-MhfebM0QIsKt87iDN-FNw', cool=0, funny=0, review_id='xQY8N_XvtGbearJ5X4QryQ', stars=2.0, text='As someone who has worked with many museums, I was eager to visit this gallery on my most recent trip to Las Vegas. When I saw they would be showing infamous eggs of the House of Faberge from the Virginia Museum of Fine Arts (VMFA), I knew I had to go!\\n\\nTucked away near the gelateria and the garden, the Gallery is pretty much hidden from view. It\\'s what real estate agents would call \"cozy\" or \"charming\" - basically any euphemism for small.\\n\\nThat being said, you can still see wonderful art at a gallery of any size, so why the two *s you ask? Let me tell you:\\n\\n* pricing for this, while relatively inexpensive for a Las Vegas attraction, is completely over the top. For the space and the amount of art you can fit in there, it is a bit much.\\n* it\\'s not kid friendly at all. Seriously, don\\'t bring them.\\n* the security is not trained properly for the show. When the curating and design teams collaborate for exhibitions, there is a definite flow. That means visitors should view the art in a certain sequence, whether it be by historical period or cultural significance (this is how audio guides are usually developed). When I arrived in the gallery I could not tell where to start, and security was certainly not helpful. I was told to \"just look around\" and \"do whatever.\" \\n\\nAt such a *fine* institution, I find the lack of knowledge and respect for the art appalling.', useful=5, user_id='OwjRMXRC0KyPrIlcjaXeFQ', time_stamp=datetime.datetime(2015, 4, 15, 5, 21, 16)),\n",
       " Row(business_id='lbrU8StCq3yDfr-QMnGrmQ', cool=0, funny=1, review_id='UmFMZ8PyXZTY2QcwzsfQYA', stars=1.0, text='I am actually horrified this place is still in business. My 3 year old son needed a haircut this past summer and the lure of the $7 kids cut signs got me in the door. We had to wait a few minutes as both stylists were working on people. The decor in this place is total garbage. It is so tacky. The sofa they had at the time was a pleather sofa with giant holes in it. And my son noticed ants crawling all over the floor and the furniture. It was disgusting and I should have walked out then. Actually, I should have turned around and walked out upon entering but I didn\\'t. So the older black male stylist finishes the haircut he was doing and it\\'s our turn. I tell him I want a #2 clipper around the back and sides and then hand cut the top into a standard boys cut. Really freaking simple, right? WRONG! Rather than use the clippers and go up to actually cut the hair, he went down. Using it moving downward doesn\\'t cut hair, it just rubs against it. How does this man who has an alleged cosmetology license not know how to use a set of freaking clippers??? I realized almost immediately that he had no idea what he was doing. No idea at all. After about 10 minutes of watching this guy stumble through it, I said \"you know what? That\\'s fine.\", paid and left. All I wanted to do was get out of that scummy joint and take my son to a real haircut place.\\n\\nBottom line: DO NOT GO HERE. RUN THE OTHER WAY!!!!!', useful=1, user_id='nIJD_7ZXHq-FX8byPMOkMQ', time_stamp=datetime.datetime(2013, 12, 7, 3, 16, 52))]"
      ]
     },
     "execution_count": 58,
     "metadata": {},
     "output_type": "execute_result"
    }
   ],
   "source": [
    "df_review.take(2)"
   ]
  },
  {
   "cell_type": "code",
   "execution_count": 59,
   "metadata": {},
   "outputs": [],
   "source": [
    "concat_str = F.udf(lambda x : ','.join(x))"
   ]
  },
  {
   "cell_type": "code",
   "execution_count": 60,
   "metadata": {},
   "outputs": [],
   "source": [
    "# Create new features and join table businesses to add column station.\n",
    "df_review = df_review \\\n",
    "    .select(*(F.col(c) for c in df_review.columns), \n",
    "              F.year('time_stamp').alias('year'),\n",
    "              F.month('time_stamp').alias('month'),\n",
    "              F.date_format(F.col('time_stamp'),'yyyy-MM-dd').alias('date').cast('date'),\n",
    "              F.hour('time_stamp').alias('hour')) \\\n",
    "    .join(df_business.select('business_id', 'station'), on = 'business_id', how = 'right') \\\n",
    "    .join(df_weather.select('id', 'station', 'date', 'hour'), on = ['station', 'date', 'hour'], how = 'left') \\\n",
    "    .drop('station', 'date', 'hour')\n",
    "\n",
    "# Count number of words in the column text\n",
    "df_review = df_review \\\n",
    "    .withColumn('word_split', F.split(F.regexp_replace('text', '[^a-zA-Z0-9-]+', ' '), ' ')) \\\n",
    "    .withColumn('word_count', F.size(F.col('word_split'))) \\\n",
    "    .withColumn('word_split', concat_str(F.col('word_split'))) \\\n",
    "    .withColumn('weather_id', F.col('id')) \\\n",
    "    .drop('text', 'id')"
   ]
  },
  {
   "cell_type": "code",
   "execution_count": 61,
   "metadata": {
    "scrolled": true
   },
   "outputs": [
    {
     "data": {
      "text/plain": [
       "[Row(business_id='-RRnldwSqCZT6OpuWKXolg', cool=0, funny=0, review_id='3Tw79e5L6bxqswzsovnzkg', stars=5.0, useful=2, user_id='DQGJIbXTgaugbKpsGTDxfA', time_stamp=datetime.datetime(2009, 12, 9, 0, 1, 34), year=2009, month=12, word_split='We,are,now,closed,but,thanks,to,the,good,folks,of,Phoenix,for,supporting,us,while,we,were,open,', word_count=20, weather_id=282256)]"
      ]
     },
     "execution_count": 61,
     "metadata": {},
     "output_type": "execute_result"
    }
   ],
   "source": [
    "df_review.take(1)\n",
    "#spark.catalog.clearCache()"
   ]
  },
  {
   "cell_type": "markdown",
   "metadata": {},
   "source": [
    "### Table business_category_link"
   ]
  },
  {
   "cell_type": "code",
   "execution_count": 62,
   "metadata": {
    "scrolled": true
   },
   "outputs": [
    {
     "name": "stdout",
     "output_type": "stream",
     "text": [
      "+--------------------+-----+-----+\n",
      "|         business_id|index|state|\n",
      "+--------------------+-----+-----+\n",
      "|Yzvjg0SayhoZgCljU...|   15|   AZ|\n",
      "|51M2Kk903DFYI6gnB...|   86|   AZ|\n",
      "|51M2Kk903DFYI6gnB...|  340|   AZ|\n",
      "|51M2Kk903DFYI6gnB...|  460|   AZ|\n",
      "|51M2Kk903DFYI6gnB...|  258|   AZ|\n",
      "|cKyLV5oWZJ2NudWgq...|   78|   AZ|\n",
      "|cKyLV5oWZJ2NudWgq...|  664|   AZ|\n",
      "|cKyLV5oWZJ2NudWgq...|  955|   AZ|\n",
      "|ScYkbYNkDgCneBrD9...|   78|   AZ|\n",
      "|ScYkbYNkDgCneBrD9...|  664|   AZ|\n",
      "|ScYkbYNkDgCneBrD9...|  939|   AZ|\n",
      "|JjJs3o60uQCfctDjs...|  258|   AZ|\n",
      "|nIEhsGbw0vJuYl05b...| 1004|   AZ|\n",
      "|nIEhsGbw0vJuYl05b...|  397|   AZ|\n",
      "|nIEhsGbw0vJuYl05b...|  362|   AZ|\n",
      "|Vwo64kNYDjKi98gUU...| 1006|   AZ|\n",
      "|Vwo64kNYDjKi98gUU...|   15|   AZ|\n",
      "|x3Po6tJGb729u_HJP...|  377|   AZ|\n",
      "|07cgbTbANYhVDfzTM...|   78|   AZ|\n",
      "|DCsS3SgVFO56F6wRO...|  319|   AZ|\n",
      "+--------------------+-----+-----+\n",
      "only showing top 20 rows\n",
      "\n"
     ]
    }
   ],
   "source": [
    "df_business_category_link = df_bussiness_cat_join\n",
    "df_business_category_link.show()"
   ]
  },
  {
   "cell_type": "markdown",
   "metadata": {},
   "source": [
    "### Table category"
   ]
  },
  {
   "cell_type": "code",
   "execution_count": 63,
   "metadata": {},
   "outputs": [
    {
     "name": "stdout",
     "output_type": "stream",
     "text": [
      "+--------------------+--------------+-----+\n",
      "|            category| subcategories|index|\n",
      "+--------------------+--------------+-----+\n",
      "|      Local Services|   3D Printing|    0|\n",
      "|         Restaurants|       Italian|    1|\n",
      "|           Nightlife|          Bars|    2|\n",
      "|                Food|    Acai Bowls|    3|\n",
      "|            Shopping|       Fashion|    4|\n",
      "|Professional Serv...|   Accountants|    5|\n",
      "|       Beauty & Spas|Acne Treatment|    6|\n",
      "|         Active Life|          null|    7|\n",
      "|    Health & Medical|   Acupuncture|    8|\n",
      "|    Health & Medical|       Doctors|    9|\n",
      "+--------------------+--------------+-----+\n",
      "only showing top 10 rows\n",
      "\n"
     ]
    }
   ],
   "source": [
    "df_category.show(10)"
   ]
  },
  {
   "cell_type": "markdown",
   "metadata": {},
   "source": [
    "### Table users"
   ]
  },
  {
   "cell_type": "code",
   "execution_count": 64,
   "metadata": {},
   "outputs": [
    {
     "data": {
      "text/plain": [
       "[Row(user_id='ntlvfPzc8eglqvk92iDIAw', name='Rafael', average_stars=3.57, compliment_cool=22, compliment_cute=0, compliment_funny=22, compliment_hot=3, compliment_list=1, compliment_more=2, compliment_note=11, compliment_photos=0, compliment_plain=15, compliment_profile=1, compliment_writer=10, cool=227, fans=14, funny=225, review_count=553, useful=628, num_elite=0, num_friends=45, yelping_since=datetime.datetime(2007, 7, 6, 3, 27, 11))]"
      ]
     },
     "execution_count": 64,
     "metadata": {},
     "output_type": "execute_result"
    }
   ],
   "source": [
    "df_user.take(1)"
   ]
  },
  {
   "cell_type": "markdown",
   "metadata": {},
   "source": [
    "### Table time"
   ]
  },
  {
   "cell_type": "code",
   "execution_count": 65,
   "metadata": {},
   "outputs": [],
   "source": [
    "df_time = df_review \\\n",
    "    .select('time_stamp', 'year', 'month') \\\n",
    "    .dropDuplicates() \\\n",
    "    .select('time_stamp', \n",
    "            'year', \n",
    "            'month', \n",
    "            F.hour('time_stamp').alias('hour'),\n",
    "            F.date_format(F.col('time_stamp'),'yyyy-MM-dd').alias('date').cast('date'),\n",
    "            F.dayofmonth('time_stamp').alias('day'),\n",
    "            F.quarter('time_stamp').alias('quarter'),\n",
    "            F.dayofweek('time_stamp').alias('weekday'),\n",
    "            F.dayofyear('time_stamp').alias('dayofyear'),\n",
    "            F.weekofyear('time_stamp').alias('weekofyear')) \\\n",
    "    .sort('time_stamp')"
   ]
  },
  {
   "cell_type": "code",
   "execution_count": 66,
   "metadata": {},
   "outputs": [
    {
     "name": "stdout",
     "output_type": "stream",
     "text": [
      "+-------------------+----+-----+----+----------+---+-------+-------+---------+----------+\n",
      "|         time_stamp|year|month|hour|      date|day|quarter|weekday|dayofyear|weekofyear|\n",
      "+-------------------+----+-----+----+----------+---+-------+-------+---------+----------+\n",
      "|2004-12-20 03:08:59|2004|   12|   3|2004-12-20| 20|      4|      2|      355|        52|\n",
      "|2004-12-24 20:51:20|2004|   12|  20|2004-12-24| 24|      4|      6|      359|        52|\n",
      "|2005-02-02 06:53:48|2005|    2|   6|2005-02-02|  2|      1|      4|       33|         5|\n",
      "|2005-03-08 22:19:43|2005|    3|  22|2005-03-08|  8|      1|      3|       67|        10|\n",
      "|2005-03-09 05:09:00|2005|    3|   5|2005-03-09|  9|      1|      4|       68|        10|\n",
      "+-------------------+----+-----+----+----------+---+-------+-------+---------+----------+\n",
      "only showing top 5 rows\n",
      "\n"
     ]
    }
   ],
   "source": [
    "df_time.show(5)"
   ]
  },
  {
   "cell_type": "markdown",
   "metadata": {},
   "source": [
    "### Table weather"
   ]
  },
  {
   "cell_type": "code",
   "execution_count": 67,
   "metadata": {},
   "outputs": [
    {
     "data": {
      "text/plain": [
       "[Row(station='KIWA', station_name='Mesa/Gateway', date=datetime.date(2004, 1, 6), hour=11, dew_point_f=None, humidity%=44.0, pressure=None, precip_hrly=None, condition=None, uv_level=None, feels_like=None, id=1),\n",
       " Row(station='KIWA', station_name='Mesa/Gateway', date=datetime.date(2004, 1, 18), hour=23, dew_point_f=None, humidity%=28.0, pressure=None, precip_hrly=None, condition=None, uv_level=None, feels_like=None, id=2),\n",
       " Row(station='KIWA', station_name='Mesa/Gateway', date=datetime.date(2004, 1, 31), hour=10, dew_point_f=None, humidity%=None, pressure=None, precip_hrly=None, condition='Fair', uv_level=None, feels_like=None, id=3),\n",
       " Row(station='KIWA', station_name='Mesa/Gateway', date=datetime.date(2004, 2, 1), hour=5, dew_point_f=None, humidity%=66.0, pressure=None, precip_hrly=None, condition=None, uv_level=None, feels_like=None, id=4),\n",
       " Row(station='KIWA', station_name='Mesa/Gateway', date=datetime.date(2004, 2, 2), hour=6, dew_point_f=None, humidity%=None, pressure=None, precip_hrly=None, condition='Fair', uv_level=None, feels_like=None, id=5)]"
      ]
     },
     "execution_count": 67,
     "metadata": {},
     "output_type": "execute_result"
    }
   ],
   "source": [
    "df_weather.take(5)"
   ]
  }
 ],
 "metadata": {
  "kernelspec": {
   "display_name": "Python 3",
   "language": "python",
   "name": "python3"
  },
  "language_info": {
   "codemirror_mode": {
    "name": "ipython",
    "version": 3
   },
   "file_extension": ".py",
   "mimetype": "text/x-python",
   "name": "python",
   "nbconvert_exporter": "python",
   "pygments_lexer": "ipython3",
   "version": "3.6.10"
  },
  "toc": {
   "base_numbering": 1,
   "nav_menu": {},
   "number_sections": true,
   "sideBar": true,
   "skip_h1_title": false,
   "title_cell": "Table of Contents",
   "title_sidebar": "Contents",
   "toc_cell": false,
   "toc_position": {},
   "toc_section_display": true,
   "toc_window_display": false
  }
 },
 "nbformat": 4,
 "nbformat_minor": 4
}
