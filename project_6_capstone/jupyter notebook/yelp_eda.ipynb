{
 "cells": [
  {
   "cell_type": "markdown",
   "metadata": {},
   "source": [
    "# This is note book to test our data model.\n",
    "\n",
    "**The table reviews only contains data in state AZ, because other states have too little data.**"
   ]
  },
  {
   "cell_type": "code",
   "execution_count": 1,
   "metadata": {},
   "outputs": [],
   "source": [
    "#! /home/rick/anaconda3/envs/de_capstone/bin/python\n",
    "\n",
    "import os\n",
    "import datetime\n",
    "import configparser\n",
    "\n",
    "os.environ['SPARK_HOME'] = '/home/rick/spark-3.0.0-preview2-bin-hadoop2.7'\n",
    "os.environ['PYSPARK_PYTHON'] = '/home/rick/anaconda3/envs/udacity_de/bin/python'\n",
    "os.environ['PYSPARK_DRIVER_PYTHON'] = '/home/rick/anaconda3/envs/udacity_de/bin/ipython'\n",
    "\n",
    "import findspark\n",
    "findspark.init()\n",
    "\n",
    "from pyspark.sql import SparkSession\n",
    "from pyspark.sql import functions as F\n",
    "from pyspark.sql import types as T\n",
    "from pyspark.sql import Window\n",
    "\n",
    "import pandas as pd\n",
    "import numpy as np\n",
    "spark = SparkSession.builder\\\n",
    "                     .config(\"spark.jars.packages\",\"org.apache.hadoop:hadoop-aws:2.7.0\")\\\n",
    "                     .getOrCreate()\n",
    "project_dir = '/mnt/data-ubuntu/Projects/data_engineering_projects/project_6_capstone'"
   ]
  },
  {
   "cell_type": "code",
   "execution_count": 18,
   "metadata": {},
   "outputs": [],
   "source": [
    "df_review = spark.read \\\n",
    "    .format('parquet') \\\n",
    "    .option('basePath', project_dir + '/data/output_test/reviews') \\\n",
    "    .load(project_dir + '/data/output_test/reviews/year=2018')\n",
    "df_business = spark.read \\\n",
    "    .format('parquet') \\\n",
    "    .option('basePath', project_dir + '/data/output_test/businesses') \\\n",
    "    .load(project_dir + '/data/output_test/businesses/state=AZ')\n",
    "df_business_category_link = spark.read \\\n",
    "    .format('parquet') \\\n",
    "    .option('basePath', project_dir + '/data/output_test/business_category_link') \\\n",
    "    .load(project_dir + '/data/output_test/business_category_link/state=AZ')\n",
    "df_category = spark.read.parquet(project_dir + '/data/output_test/category')\n",
    "df_users = spark.read.parquet(project_dir + '/data/output_test/users')\n",
    "df_weather = spark.read.parquet(project_dir + '/data/output_test/weather')"
   ]
  },
  {
   "cell_type": "code",
   "execution_count": 19,
   "metadata": {},
   "outputs": [],
   "source": [
    "df_review.createOrReplaceTempView('reviews')\n",
    "df_business.createOrReplaceTempView('businesses')\n",
    "df_business_category_link.createOrReplaceTempView('business_category_link')\n",
    "df_category.createOrReplaceTempView('category')\n",
    "df_users.createOrReplaceTempView('users')\n",
    "df_weather.createOrReplaceTempView('weather')"
   ]
  },
  {
   "cell_type": "markdown",
   "metadata": {},
   "source": [
    "## How many reveiws are there in year 2018?"
   ]
  },
  {
   "cell_type": "code",
   "execution_count": 21,
   "metadata": {},
   "outputs": [
    {
     "name": "stdout",
     "output_type": "stream",
     "text": [
      "+-----------+\n",
      "|NUM_REVIEWS|\n",
      "+-----------+\n",
      "|     424433|\n",
      "+-----------+\n",
      "\n"
     ]
    }
   ],
   "source": [
    "sql = '''\n",
    "\n",
    "SELECT COUNT(*) AS NUM_REVIEWS\n",
    "FROM REVIEWS\n",
    "\n",
    "'''\n",
    "spark.sql(sql).show()"
   ]
  },
  {
   "cell_type": "markdown",
   "metadata": {},
   "source": [
    "## Which business has the highest review stars on average in 2018?"
   ]
  },
  {
   "cell_type": "code",
   "execution_count": 25,
   "metadata": {},
   "outputs": [
    {
     "name": "stdout",
     "output_type": "stream",
     "text": [
      "+--------------------+------------------+-----+-----------+---------+\n",
      "|                NAME|           ADDRESS| CITY|POSTAL_CODE|AVG_STARS|\n",
      "+--------------------+------------------+-----+-----------+---------+\n",
      "|Carneceria Don Fi...|1533 E Apache Blvd|Tempe|      85281|      5.0|\n",
      "+--------------------+------------------+-----+-----------+---------+\n",
      "\n"
     ]
    }
   ],
   "source": [
    "sql = '''\n",
    "\n",
    "SELECT \n",
    "    B.NAME,\n",
    "    B.ADDRESS,\n",
    "    B.CITY,\n",
    "    B.POSTAL_CODE,\n",
    "    AVG(R.STARS) AS AVG_STARS\n",
    "FROM BUSINESSES B\n",
    "    LEFT JOIN REVIEWS R ON R.BUSINESS_ID = B.BUSINESS_ID\n",
    "GROUP BY B.NAME,B.ADDRESS,B.CITY,B.POSTAL_CODE\n",
    "ORDER BY AVG(R.STARS) DESC\n",
    "LIMIT 1\n",
    "'''\n",
    "spark.sql(sql).show()"
   ]
  },
  {
   "cell_type": "markdown",
   "metadata": {},
   "source": [
    "## Which business has the most number of reviews in 2018?"
   ]
  },
  {
   "cell_type": "code",
   "execution_count": 26,
   "metadata": {},
   "outputs": [
    {
     "name": "stdout",
     "output_type": "stream",
     "text": [
      "+--------------------+--------------------+-------+-----------+-----------+\n",
      "|                NAME|             ADDRESS|   CITY|POSTAL_CODE|NUM_REVIEWS|\n",
      "+--------------------+--------------------+-------+-----------+-----------+\n",
      "|The Sicilian Butcher|15530 N Tatum Blv...|Phoenix|      85032|        893|\n",
      "+--------------------+--------------------+-------+-----------+-----------+\n",
      "\n"
     ]
    }
   ],
   "source": [
    "sql = '''\n",
    "\n",
    "SELECT \n",
    "    B.NAME,\n",
    "    B.ADDRESS,\n",
    "    B.CITY,\n",
    "    B.POSTAL_CODE,\n",
    "    COUNT(*) AS NUM_REVIEWS\n",
    "FROM BUSINESSES B\n",
    "    LEFT JOIN REVIEWS R ON R.BUSINESS_ID = B.BUSINESS_ID\n",
    "GROUP BY B.NAME,B.ADDRESS,B.CITY,B.POSTAL_CODE\n",
    "ORDER BY COUNT(*) DESC\n",
    "LIMIT 1\n",
    "\n",
    "'''\n",
    "spark.sql(sql).show()"
   ]
  },
  {
   "cell_type": "markdown",
   "metadata": {},
   "source": [
    "## Which subcategory in the category Restaurants has the highest review stars on average in 2018?"
   ]
  },
  {
   "cell_type": "code",
   "execution_count": 43,
   "metadata": {
    "scrolled": true
   },
   "outputs": [
    {
     "name": "stdout",
     "output_type": "stream",
     "text": [
      "+------------------+---------+-----------+\n",
      "|     SUBCATEGORIES|AVG_STARS|NUM_REVIEWS|\n",
      "+------------------+---------+-----------+\n",
      "|           Catalan|      5.0|          3|\n",
      "|         Ukrainian|     4.78|        181|\n",
      "|Rotisserie Chicken|     4.77|         22|\n",
      "|             Uzbek|     4.76|         42|\n",
      "|           Russian|      4.7|        154|\n",
      "|              Pita|      4.6|         16|\n",
      "|           Arabian|     4.54|        364|\n",
      "|             Cuban|     4.53|        446|\n",
      "|         Ethiopian|     4.45|        158|\n",
      "|            Polish|     4.43|        381|\n",
      "+------------------+---------+-----------+\n",
      "\n"
     ]
    }
   ],
   "source": [
    "# TOP 10\n",
    "sql = '''\n",
    "SELECT \n",
    "    C.SUBCATEGORIES,\n",
    "    ROUND(AVG(R.STARS),2) AS AVG_STARS,\n",
    "    COUNT(*) AS NUM_REVIEWS\n",
    "FROM BUSINESSES B\n",
    "    LEFT JOIN REVIEWS R ON B.BUSINESS_ID = R.BUSINESS_ID\n",
    "    LEFT JOIN BUSINESS_CATEGORY_LINK BC ON BC.BUSINESS_ID = B.BUSINESS_ID\n",
    "    LEFT JOIN CATEGORY C ON C.INDEX = BC.INDEX\n",
    "WHERE CATEGORY = 'Restaurants'\n",
    "GROUP BY C.SUBCATEGORIES\n",
    "ORDER BY ROUND(AVG(R.STARS),2) DESC\n",
    "LIMIT 10\n",
    "'''\n",
    "spark.sql(sql).show()"
   ]
  },
  {
   "cell_type": "code",
   "execution_count": 44,
   "metadata": {},
   "outputs": [
    {
     "name": "stdout",
     "output_type": "stream",
     "text": [
      "+------------------+---------+-----------+\n",
      "|     SUBCATEGORIES|AVG_STARS|NUM_REVIEWS|\n",
      "+------------------+---------+-----------+\n",
      "|Himalayan/Nepalese|     null|          1|\n",
      "|           Burmese|     null|          1|\n",
      "|          Pub Food|     null|          1|\n",
      "|         Argentine|     2.15|         23|\n",
      "|       Beer Garden|     2.24|         63|\n",
      "|           Laotian|     2.85|         27|\n",
      "|         Fast Food|     2.87|      18423|\n",
      "|      Chicken Shop|     3.22|       1708|\n",
      "|        Food Court|     3.27|        371|\n",
      "|        Polynesian|     3.28|         33|\n",
      "+------------------+---------+-----------+\n",
      "\n"
     ]
    }
   ],
   "source": [
    "# LAST 10\n",
    "sql = '''\n",
    "SELECT \n",
    "    C.SUBCATEGORIES,\n",
    "    ROUND(AVG(R.STARS),2) AS AVG_STARS,\n",
    "    COUNT(*) AS NUM_REVIEWS\n",
    "FROM BUSINESSES B\n",
    "    LEFT JOIN REVIEWS R ON B.BUSINESS_ID = R.BUSINESS_ID\n",
    "    LEFT JOIN BUSINESS_CATEGORY_LINK BC ON BC.BUSINESS_ID = B.BUSINESS_ID\n",
    "    LEFT JOIN CATEGORY C ON C.INDEX = BC.INDEX\n",
    "WHERE CATEGORY = 'Restaurants'\n",
    "GROUP BY C.SUBCATEGORIES\n",
    "ORDER BY ROUND(AVG(R.STARS),2)\n",
    "LIMIT 10\n",
    "'''\n",
    "spark.sql(sql).show()"
   ]
  },
  {
   "cell_type": "markdown",
   "metadata": {},
   "source": [
    "If I'm going to open a business, I will not open a fast food restaurant..."
   ]
  },
  {
   "cell_type": "markdown",
   "metadata": {},
   "source": [
    "## When do the users like to leave a reveiw(Which hour in a day) in 2018?"
   ]
  },
  {
   "cell_type": "code",
   "execution_count": 47,
   "metadata": {
    "scrolled": true
   },
   "outputs": [
    {
     "name": "stdout",
     "output_type": "stream",
     "text": [
      "+----+-----------+\n",
      "|HOUR|NUM_REVIEWS|\n",
      "+----+-----------+\n",
      "|   0|      27187|\n",
      "|   1|      28582|\n",
      "|   2|      29295|\n",
      "|   3|      28235|\n",
      "|   4|      22763|\n",
      "|   5|      15992|\n",
      "|   6|       9507|\n",
      "|   7|       5543|\n",
      "|   8|       3086|\n",
      "|   9|       1911|\n",
      "|  10|       1410|\n",
      "|  11|       1597|\n",
      "|  12|       2758|\n",
      "|  13|       5663|\n",
      "|  14|      10323|\n",
      "|  15|      15328|\n",
      "|  16|      19913|\n",
      "|  17|      23467|\n",
      "|  18|      26305|\n",
      "|  19|      30198|\n",
      "+----+-----------+\n",
      "only showing top 20 rows\n",
      "\n"
     ]
    }
   ],
   "source": [
    "sql = '''\n",
    "\n",
    "SELECT \n",
    "    HOUR,\n",
    "    COUNT(*) AS NUM_REVIEWS\n",
    "FROM REVIEWS\n",
    "GROUP BY HOUR\n",
    "ORDER BY HOUR\n",
    "'''\n",
    "spark.sql(sql).show()"
   ]
  },
  {
   "cell_type": "markdown",
   "metadata": {},
   "source": [
    "## Which user wrote the most number of reviews in 2018"
   ]
  },
  {
   "cell_type": "code",
   "execution_count": 50,
   "metadata": {},
   "outputs": [
    {
     "name": "stdout",
     "output_type": "stream",
     "text": [
      "+--------------------+-------+-----------+\n",
      "|             USER_ID|   NAME|NUM_REVIEWS|\n",
      "+--------------------+-------+-----------+\n",
      "|7C4B2Skmh4X9f8xJD...|Dolores|        325|\n",
      "+--------------------+-------+-----------+\n",
      "\n"
     ]
    }
   ],
   "source": [
    "sql = '''\n",
    "\n",
    "SELECT\n",
    "    U.USER_ID,\n",
    "    NAME,\n",
    "    COUNT(*) AS NUM_REVIEWS\n",
    "FROM USERS U\n",
    "    LEFT JOIN REVIEWS R ON R.USER_ID = U.USER_ID\n",
    "GROUP BY U.USER_ID,NAME\n",
    "ORDER BY COUNT(*) DESC\n",
    "LIMIT 1\n",
    "\n",
    "'''\n",
    "spark.sql(sql).show()"
   ]
  },
  {
   "cell_type": "markdown",
   "metadata": {},
   "source": [
    "The user Dolores wrote 325 reviews in 2018!"
   ]
  },
  {
   "cell_type": "markdown",
   "metadata": {},
   "source": [
    "## Which business has the most number of patrons(users who left more than two reviews for the same business)?"
   ]
  },
  {
   "cell_type": "code",
   "execution_count": 62,
   "metadata": {},
   "outputs": [
    {
     "name": "stdout",
     "output_type": "stream",
     "text": [
      "+--------------------+--------------------+-----------+\n",
      "|         BUSINESS_ID|                NAME|NUM_PATRONS|\n",
      "+--------------------+--------------------+-----------+\n",
      "|EDcZRvERC22Cvw1yi...|The Sicilian Butcher|         21|\n",
      "+--------------------+--------------------+-----------+\n",
      "\n"
     ]
    }
   ],
   "source": [
    "sql = '''\n",
    "\n",
    "SELECT \n",
    "    BUSINESS_ID,\n",
    "    NAME,\n",
    "    COUNT(*) AS NUM_PATRONS\n",
    "FROM (\n",
    "        SELECT\n",
    "            B.BUSINESS_ID,\n",
    "            B.NAME,\n",
    "            R.USER_ID,\n",
    "            COUNT(*) AS NUM_REVIEWS\n",
    "        FROM BUSINESSES B\n",
    "            INNER JOIN REVIEWS R ON R.BUSINESS_ID = B.BUSINESS_ID\n",
    "        GROUP BY B.BUSINESS_ID, B.NAME, R.USER_ID\n",
    "        HAVING COUNT(*) > 1\n",
    "        ) T\n",
    "GROUP BY BUSINESS_ID, NAME\n",
    "ORDER BY COUNT(*) DESC\n",
    "LIMIT 1\n",
    "\n",
    "'''\n",
    "spark.sql(sql).show()"
   ]
  },
  {
   "cell_type": "markdown",
   "metadata": {},
   "source": [
    "## What's the relationship between num_friends and average_stars in table users?"
   ]
  },
  {
   "cell_type": "code",
   "execution_count": 66,
   "metadata": {},
   "outputs": [],
   "source": [
    "import pandas \n",
    "import matplotlib.pyplot as plt"
   ]
  },
  {
   "cell_type": "code",
   "execution_count": 75,
   "metadata": {},
   "outputs": [
    {
     "data": {
      "image/png": "[encoded data removed]",
      "text/plain": [
       "<Figure size 432x288 with 1 Axes>"
      ]
     },
     "metadata": {
      "needs_background": "light"
     },
     "output_type": "display_data"
    }
   ],
   "source": [
    "\n",
    "sql = '''\n",
    "\n",
    "SELECT\n",
    "    NUM_FRIENDS,\n",
    "    AVG(AVERAGE_STARS) AS AVG_STARS\n",
    "FROM USERS U\n",
    "GROUP BY NUM_FRIENDS\n",
    "ORDER BY NUM_FRIENDS\n",
    "\n",
    "'''\n",
    "spark.sql(sql) \\\n",
    "    .toPandas() \\\n",
    "    .sort_values('NUM_FRIENDS') \\\n",
    "    .plot(kind = 'scatter', x = 'NUM_FRIENDS', y = 'AVG_STARS' )\n",
    "plt.show()"
   ]
  },
  {
   "cell_type": "markdown",
   "metadata": {},
   "source": [
    "There are some outliers, but we don't see obvious trend between two variables."
   ]
  },
  {
   "cell_type": "markdown",
   "metadata": {},
   "source": [
    "## What's the relationship between feels_like in table weather and average stars for restaurants?"
   ]
  },
  {
   "cell_type": "code",
   "execution_count": 94,
   "metadata": {
    "scrolled": true
   },
   "outputs": [
    {
     "data": {
      "image/png": "[encoded data removed]",
      "text/plain": [
       "<Figure size 576x360 with 1 Axes>"
      ]
     },
     "metadata": {
      "needs_background": "light"
     },
     "output_type": "display_data"
    }
   ],
   "source": [
    "sql = '''\n",
    "\n",
    "SELECT\n",
    "    W.FEELS_LIKE,\n",
    "    AVG(R.STARS) AS AVG_STARS\n",
    "FROM REVIEWS R\n",
    "    INNER JOIN WEATHER W ON W.ID = R.WEATHER_ID\n",
    "WHERE W.FEELS_LIKE IS NOT NULL\n",
    "GROUP BY W.FEELS_LIKE\n",
    "HAVING COUNT(*)>100\n",
    "ORDER BY W.FEELS_LIKE\n",
    "\n",
    "'''\n",
    "fig, ax = plt.subplots(figsize=(8,5))\n",
    "df = spark.sql(sql) \\\n",
    "    .toPandas() \\\n",
    "    .sort_values('FEELS_LIKE') \\\n",
    "    .plot(kind = 'scatter', x = 'FEELS_LIKE', y = 'AVG_STARS', ax = ax)\n",
    "plt.show()"
   ]
  },
  {
   "cell_type": "markdown",
   "metadata": {},
   "source": [
    "There is a trend that people tend to wrote a review with higher stars when the \"feels_like\" temperature is higher."
   ]
  }
 ],
 "metadata": {
  "kernelspec": {
   "display_name": "Python 3",
   "language": "python",
   "name": "python3"
  },
  "language_info": {
   "codemirror_mode": {
    "name": "ipython",
    "version": 3
   },
   "file_extension": ".py",
   "mimetype": "text/x-python",
   "name": "python",
   "nbconvert_exporter": "python",
   "pygments_lexer": "ipython3",
   "version": "3.6.10"
  },
  "toc": {
   "base_numbering": 1,
   "nav_menu": {},
   "number_sections": true,
   "sideBar": true,
   "skip_h1_title": false,
   "title_cell": "Table of Contents",
   "title_sidebar": "Contents",
   "toc_cell": false,
   "toc_position": {},
   "toc_section_display": true,
   "toc_window_display": false
  }
 },
 "nbformat": 4,
 "nbformat_minor": 4
}
